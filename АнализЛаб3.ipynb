{
 "cells": [
  {
   "cell_type": "markdown",
   "id": "d0771e1d-fdda-484f-89fc-15635e1a7be8",
   "metadata": {},
   "source": [
    "%%HTML\n",
    "<h3 align=\"center\">Министерство науки и высшего образования Российской Федерации</h3>\n",
    "<h3 align=\"center\"> Федеральное государственное бюджетное образовательное учреждение высшего образования </h3>\n",
    "<h3 align=\"center\"> Уфимский государственный нефтяной технический университет </h3>\n",
    "<h3 align=\"center\"> “Высшая школа информационных и социальных технологий” </h3>\n",
    "<h3 align=\"center\"> Кафедра “Информационные технологии и прикладная математика” </h3>\n",
    "<br>\n",
    "<br>\n",
    "<br>\n",
    "<h3 align=\"center\"> Отчет </h3>\n",
    "<h3 align=\"center\"> по лабораторной работе №3 </h3>\n",
    "<br>\n",
    "<br>\n",
    "<br>\n",
    "<h3 align=\"right\"> Выполнил: </h3>\n",
    "<h3 align=\"right\"> Ст-гр: БНИ-21-01 Салиев Альберт Русланович </h3>\n",
    "<h3 align=\"right\"> Проверил: </h3>\n",
    "<h3 align=\"right\"> Гумерова Велена Ильгизовна </h3>\n",
    "<h3 align=\"right\"> Дата: 25.04.2024 </h3>\n",
    "<br>\n",
    "<br>\n",
    "<br>\n",
    "<h3 align=\"center\"> Уфа 2024 </h3>\n",
    "<br>\n",
    "<br>"
   ]
  },
  {
   "cell_type": "markdown",
   "id": "efabcf9f-dca0-4ddf-aa3b-7dd0f02596e9",
   "metadata": {},
   "source": [
    "%%HTML\n",
    "\n",
    "<h3 align=\"left\"> Подключены библиотеки</h3>\n",
    "\n",
    "\n",
    "</h3>"
   ]
  },
  {
   "cell_type": "code",
   "execution_count": 1,
   "id": "96bb32a2-97dd-44d3-af76-dc37b2598e14",
   "metadata": {},
   "outputs": [
    {
     "name": "stderr",
     "output_type": "stream",
     "text": [
      "\n",
      "Attaching package: 'dplyr'\n",
      "\n",
      "The following objects are masked from 'package:stats':\n",
      "\n",
      "    filter, lag\n",
      "\n",
      "The following objects are masked from 'package:base':\n",
      "\n",
      "    intersect, setdiff, setequal, union\n",
      "\n",
      "Loading required package: ggplot2\n",
      "Registered S3 methods overwritten by 'ggplot2':\n",
      "  method         from \n",
      "  [.quosures     rlang\n",
      "  c.quosures     rlang\n",
      "  print.quosures rlang\n",
      "\n",
      "Attaching package: 'plotly'\n",
      "\n",
      "The following object is masked from 'package:ggplot2':\n",
      "\n",
      "    last_plot\n",
      "\n",
      "The following object is masked from 'package:stats':\n",
      "\n",
      "    filter\n",
      "\n",
      "The following object is masked from 'package:graphics':\n",
      "\n",
      "    layout\n",
      "\n",
      "Loading required package: lattice\n",
      "Loading required package: Matrix\n",
      "\n",
      "Attaching package: 'Matrix'\n",
      "\n",
      "The following object is masked from 'package:tidyr':\n",
      "\n",
      "    expand\n",
      "\n",
      "Loading required package: foreach\n",
      "Loaded glmnet 2.0-16\n",
      "\n"
     ]
    }
   ],
   "source": [
    "library(tidyr)\n",
    "library(dplyr)\n",
    "library(plotly)\n",
    "\n",
    "library(caret) #confusion matrix, splitting data\n",
    "library(glmnet)"
   ]
  },
  {
   "cell_type": "markdown",
   "id": "d4514bb8-88f7-41c6-8e4f-3b88b2c890d6",
   "metadata": {},
   "source": [
    "%%HTML\n",
    "\n",
    "<h3 align=\"left\"> Подготовлен датафрейм</h3>\n",
    "\n",
    "</h3>"
   ]
  },
  {
   "cell_type": "code",
   "execution_count": 2,
   "id": "f503a45f-53ff-444c-b72c-168800b799c3",
   "metadata": {},
   "outputs": [],
   "source": [
    "D <- read.csv(\"BankChurners.csv\")\n",
    "D <- as.data.frame(D)"
   ]
  },
  {
   "cell_type": "code",
   "execution_count": 3,
   "id": "a4e390fd-bd04-408c-b8dc-f6c66109efe9",
   "metadata": {},
   "outputs": [
    {
     "data": {
      "text/html": [
       "<ol class=list-inline>\n",
       "\t<li>10127</li>\n",
       "\t<li>23</li>\n",
       "</ol>\n"
      ],
      "text/latex": [
       "\\begin{enumerate*}\n",
       "\\item 10127\n",
       "\\item 23\n",
       "\\end{enumerate*}\n"
      ],
      "text/markdown": [
       "1. 10127\n",
       "2. 23\n",
       "\n",
       "\n"
      ],
      "text/plain": [
       "[1] 10127    23"
      ]
     },
     "metadata": {},
     "output_type": "display_data"
    },
    {
     "data": {
      "text/html": [
       "<ol class=list-inline>\n",
       "\t<li>'CLIENTNUM'</li>\n",
       "\t<li>'Attrition_Flag'</li>\n",
       "\t<li>'Customer_Age'</li>\n",
       "\t<li>'Gender'</li>\n",
       "\t<li>'Dependent_count'</li>\n",
       "\t<li>'Education_Level'</li>\n",
       "\t<li>'Marital_Status'</li>\n",
       "\t<li>'Income_Category'</li>\n",
       "\t<li>'Card_Category'</li>\n",
       "\t<li>'Months_on_book'</li>\n",
       "\t<li>'Total_Relationship_Count'</li>\n",
       "\t<li>'Months_Inactive_12_mon'</li>\n",
       "\t<li>'Contacts_Count_12_mon'</li>\n",
       "\t<li>'Credit_Limit'</li>\n",
       "\t<li>'Total_Revolving_Bal'</li>\n",
       "\t<li>'Avg_Open_To_Buy'</li>\n",
       "\t<li>'Total_Amt_Chng_Q4_Q1'</li>\n",
       "\t<li>'Total_Trans_Amt'</li>\n",
       "\t<li>'Total_Trans_Ct'</li>\n",
       "\t<li>'Total_Ct_Chng_Q4_Q1'</li>\n",
       "\t<li>'Avg_Utilization_Ratio'</li>\n",
       "\t<li>'Naive_Bayes_Classifier_Attrition_Flag_Card_Category_Contacts_Count_12_mon_Dependent_count_Education_Level_Months_Inactive_12_mon_1'</li>\n",
       "\t<li>'Naive_Bayes_Classifier_Attrition_Flag_Card_Category_Contacts_Count_12_mon_Dependent_count_Education_Level_Months_Inactive_12_mon_2'</li>\n",
       "</ol>\n"
      ],
      "text/latex": [
       "\\begin{enumerate*}\n",
       "\\item 'CLIENTNUM'\n",
       "\\item 'Attrition\\_Flag'\n",
       "\\item 'Customer\\_Age'\n",
       "\\item 'Gender'\n",
       "\\item 'Dependent\\_count'\n",
       "\\item 'Education\\_Level'\n",
       "\\item 'Marital\\_Status'\n",
       "\\item 'Income\\_Category'\n",
       "\\item 'Card\\_Category'\n",
       "\\item 'Months\\_on\\_book'\n",
       "\\item 'Total\\_Relationship\\_Count'\n",
       "\\item 'Months\\_Inactive\\_12\\_mon'\n",
       "\\item 'Contacts\\_Count\\_12\\_mon'\n",
       "\\item 'Credit\\_Limit'\n",
       "\\item 'Total\\_Revolving\\_Bal'\n",
       "\\item 'Avg\\_Open\\_To\\_Buy'\n",
       "\\item 'Total\\_Amt\\_Chng\\_Q4\\_Q1'\n",
       "\\item 'Total\\_Trans\\_Amt'\n",
       "\\item 'Total\\_Trans\\_Ct'\n",
       "\\item 'Total\\_Ct\\_Chng\\_Q4\\_Q1'\n",
       "\\item 'Avg\\_Utilization\\_Ratio'\n",
       "\\item 'Naive\\_Bayes\\_Classifier\\_Attrition\\_Flag\\_Card\\_Category\\_Contacts\\_Count\\_12\\_mon\\_Dependent\\_count\\_Education\\_Level\\_Months\\_Inactive\\_12\\_mon\\_1'\n",
       "\\item 'Naive\\_Bayes\\_Classifier\\_Attrition\\_Flag\\_Card\\_Category\\_Contacts\\_Count\\_12\\_mon\\_Dependent\\_count\\_Education\\_Level\\_Months\\_Inactive\\_12\\_mon\\_2'\n",
       "\\end{enumerate*}\n"
      ],
      "text/markdown": [
       "1. 'CLIENTNUM'\n",
       "2. 'Attrition_Flag'\n",
       "3. 'Customer_Age'\n",
       "4. 'Gender'\n",
       "5. 'Dependent_count'\n",
       "6. 'Education_Level'\n",
       "7. 'Marital_Status'\n",
       "8. 'Income_Category'\n",
       "9. 'Card_Category'\n",
       "10. 'Months_on_book'\n",
       "11. 'Total_Relationship_Count'\n",
       "12. 'Months_Inactive_12_mon'\n",
       "13. 'Contacts_Count_12_mon'\n",
       "14. 'Credit_Limit'\n",
       "15. 'Total_Revolving_Bal'\n",
       "16. 'Avg_Open_To_Buy'\n",
       "17. 'Total_Amt_Chng_Q4_Q1'\n",
       "18. 'Total_Trans_Amt'\n",
       "19. 'Total_Trans_Ct'\n",
       "20. 'Total_Ct_Chng_Q4_Q1'\n",
       "21. 'Avg_Utilization_Ratio'\n",
       "22. 'Naive_Bayes_Classifier_Attrition_Flag_Card_Category_Contacts_Count_12_mon_Dependent_count_Education_Level_Months_Inactive_12_mon_1'\n",
       "23. 'Naive_Bayes_Classifier_Attrition_Flag_Card_Category_Contacts_Count_12_mon_Dependent_count_Education_Level_Months_Inactive_12_mon_2'\n",
       "\n",
       "\n"
      ],
      "text/plain": [
       " [1] \"CLIENTNUM\"                                                                                                                         \n",
       " [2] \"Attrition_Flag\"                                                                                                                    \n",
       " [3] \"Customer_Age\"                                                                                                                      \n",
       " [4] \"Gender\"                                                                                                                            \n",
       " [5] \"Dependent_count\"                                                                                                                   \n",
       " [6] \"Education_Level\"                                                                                                                   \n",
       " [7] \"Marital_Status\"                                                                                                                    \n",
       " [8] \"Income_Category\"                                                                                                                   \n",
       " [9] \"Card_Category\"                                                                                                                     \n",
       "[10] \"Months_on_book\"                                                                                                                    \n",
       "[11] \"Total_Relationship_Count\"                                                                                                          \n",
       "[12] \"Months_Inactive_12_mon\"                                                                                                            \n",
       "[13] \"Contacts_Count_12_mon\"                                                                                                             \n",
       "[14] \"Credit_Limit\"                                                                                                                      \n",
       "[15] \"Total_Revolving_Bal\"                                                                                                               \n",
       "[16] \"Avg_Open_To_Buy\"                                                                                                                   \n",
       "[17] \"Total_Amt_Chng_Q4_Q1\"                                                                                                              \n",
       "[18] \"Total_Trans_Amt\"                                                                                                                   \n",
       "[19] \"Total_Trans_Ct\"                                                                                                                    \n",
       "[20] \"Total_Ct_Chng_Q4_Q1\"                                                                                                               \n",
       "[21] \"Avg_Utilization_Ratio\"                                                                                                             \n",
       "[22] \"Naive_Bayes_Classifier_Attrition_Flag_Card_Category_Contacts_Count_12_mon_Dependent_count_Education_Level_Months_Inactive_12_mon_1\"\n",
       "[23] \"Naive_Bayes_Classifier_Attrition_Flag_Card_Category_Contacts_Count_12_mon_Dependent_count_Education_Level_Months_Inactive_12_mon_2\""
      ]
     },
     "metadata": {},
     "output_type": "display_data"
    }
   ],
   "source": [
    "dim(D)\n",
    "names(D)"
   ]
  },
  {
   "cell_type": "code",
   "execution_count": 4,
   "id": "d678ddc4-81de-45a9-8eea-0841bbace0ca",
   "metadata": {},
   "outputs": [],
   "source": [
    "D <- subset(D, select = -c(CLIENTNUM))\n",
    "D <- subset(D, select = -c(Naive_Bayes_Classifier_Attrition_Flag_Card_Category_Contacts_Count_12_mon_Dependent_count_Education_Level_Months_Inactive_12_mon_1))\n",
    "D <- subset(D, select = -c(Naive_Bayes_Classifier_Attrition_Flag_Card_Category_Contacts_Count_12_mon_Dependent_count_Education_Level_Months_Inactive_12_mon_2))"
   ]
  },
  {
   "cell_type": "markdown",
   "id": "2c3a5ff4-7cf1-4330-89da-fdb590fdcc65",
   "metadata": {},
   "source": [
    "%%HTML\n",
    "\n",
    "<h3 align=\"left\"> Для линейной регрессии необходимо, чтобы данные были нормально распределены</h3>\n",
    "<h3 align=\"left\"> Использована гистограмма для проверки соответствия нормальному распределению</h3>\n",
    "\n",
    "</h3>"
   ]
  },
  {
   "cell_type": "code",
   "execution_count": 5,
   "id": "122dc2c3-cf53-4dc9-9d34-c61ef7e8bdad",
   "metadata": {},
   "outputs": [
    {
     "data": {
      "image/png": "[encoded data removed]",
      "text/plain": [
       "Plot with title \"Customer_Age\""
      ]
     },
     "metadata": {},
     "output_type": "display_data"
    },
    {
     "data": {
      "image/png": "[encoded data removed]",
      "text/plain": [
       "Plot with title \"Dependent_count\""
      ]
     },
     "metadata": {},
     "output_type": "display_data"
    },
    {
     "data": {
      "image/png": "[encoded data removed]",
      "text/plain": [
       "Plot with title \"Months_on_book\""
      ]
     },
     "metadata": {},
     "output_type": "display_data"
    },
    {
     "data": {
      "image/png": "[encoded data removed]",
      "text/plain": [
       "Plot with title \"Total_Relationship_Count\""
      ]
     },
     "metadata": {},
     "output_type": "display_data"
    },
    {
     "data": {
      "image/png": "[encoded data removed]",
      "text/plain": [
       "Plot with title \"Months_Inactive_12_mon\""
      ]
     },
     "metadata": {},
     "output_type": "display_data"
    },
    {
     "data": {
      "image/png": "[encoded data removed]",
      "text/plain": [
       "Plot with title \"Contacts_Count_12_mon\""
      ]
     },
     "metadata": {},
     "output_type": "display_data"
    },
    {
     "data": {
      "image/png": "[encoded data removed]",
      "text/plain": [
       "Plot with title \"Credit_Limit\""
      ]
     },
     "metadata": {},
     "output_type": "display_data"
    },
    {
     "data": {
      "image/png": "[encoded data removed]",
      "text/plain": [
       "Plot with title \"Total_Revolving_Bal\""
      ]
     },
     "metadata": {},
     "output_type": "display_data"
    },
    {
     "data": {
      "image/png": "[encoded data removed]",
      "text/plain": [
       "Plot with title \"Avg_Open_To_Buy\""
      ]
     },
     "metadata": {},
     "output_type": "display_data"
    },
    {
     "data": {
      "image/png": "[encoded data removed]",
      "text/plain": [
       "Plot with title \"Total_Amt_Chng_Q4_Q1\""
      ]
     },
     "metadata": {},
     "output_type": "display_data"
    },
    {
     "data": {
      "image/png": "[encoded data removed]",
      "text/plain": [
       "Plot with title \"Total_Trans_Amt\""
      ]
     },
     "metadata": {},
     "output_type": "display_data"
    },
    {
     "data": {
      "image/png": "[encoded data removed]",
      "text/plain": [
       "Plot with title \"Total_Trans_Ct\""
      ]
     },
     "metadata": {},
     "output_type": "display_data"
    },
    {
     "data": {
      "image/png": "[encoded data removed]",
      "text/plain": [
       "Plot with title \"Total_Ct_Chng_Q4_Q1\""
      ]
     },
     "metadata": {},
     "output_type": "display_data"
    },
    {
     "data": {
      "image/png": "[encoded data removed]",
      "text/plain": [
       "Plot with title \"Avg_Utilization_Ratio\""
      ]
     },
     "metadata": {},
     "output_type": "display_data"
    }
   ],
   "source": [
    "for (col in colnames(D)) {\n",
    "  if (is.numeric(D[[col]])) {\n",
    "    hist(D[[col]], main = col, xlab = col)\n",
    "  }\n",
    "}"
   ]
  },
  {
   "cell_type": "markdown",
   "id": "7f78284c-a7f4-4a57-a128-a0dad7dd24b3",
   "metadata": {},
   "source": [
    "%%HTML\n",
    "\n",
    "<h3 align=\"left\"> Подготовим данные для работы </h3>\n",
    "\n",
    "\n",
    "</h3>"
   ]
  },
  {
   "cell_type": "code",
   "execution_count": 6,
   "id": "889c146f-444b-46dd-92e1-497d460ac690",
   "metadata": {},
   "outputs": [
    {
     "data": {
      "text/html": [
       "<table>\n",
       "<thead><tr><th></th><th scope=col>Attrition_Flag</th><th scope=col>Customer_Age</th><th scope=col>Gender</th><th scope=col>Dependent_count</th><th scope=col>Education_Level</th><th scope=col>Marital_Status</th><th scope=col>Income_Category</th><th scope=col>Card_Category</th><th scope=col>Months_on_book</th><th scope=col>Total_Relationship_Count</th><th scope=col>Months_Inactive_12_mon</th><th scope=col>Contacts_Count_12_mon</th><th scope=col>Credit_Limit</th><th scope=col>Total_Revolving_Bal</th><th scope=col>Avg_Open_To_Buy</th><th scope=col>Total_Amt_Chng_Q4_Q1</th><th scope=col>Total_Trans_Amt</th><th scope=col>Total_Trans_Ct</th><th scope=col>Total_Ct_Chng_Q4_Q1</th><th scope=col>Avg_Utilization_Ratio</th></tr></thead>\n",
       "<tbody>\n",
       "\t<tr><th scope=row>11</th><td>Existing Customer</td><td>-0.53961091      </td><td>M                </td><td> 2.0430978       </td><td>Uneducated       </td><td>Unknown          </td><td>$120K +          </td><td>Blue             </td><td>-0.61709896      </td><td> 0.7639049       </td><td> 0.6519080       </td><td>-0.4115957       </td><td>-0.2072835       </td><td> 0.373240080     </td><td>-0.24070128      </td><td> 0.324165839     </td><td>-0.9428803       </td><td>-0.9738471       </td><td>-0.135339178     </td><td>-0.209993991     </td></tr>\n",
       "\t<tr><th scope=row>15</th><td>Existing Customer</td><td> 1.33145657      </td><td>F                </td><td>-0.2665340       </td><td>Graduate         </td><td>Married          </td><td>Less than $40K   </td><td>Blue             </td><td> 1.51151534      </td><td> 0.7639049       </td><td>-0.3375813       </td><td>-0.4115957       </td><td>-0.6817148       </td><td>-0.592419097     </td><td>-0.62846083      </td><td> 1.961888986     </td><td>-0.8342592       </td><td>-1.5276850       </td><td>-0.425150311     </td><td> 0.014895086     </td></tr>\n",
       "\t<tr><th scope=row>20</th><td>Existing Customer</td><td>-0.16539741      </td><td>F                </td><td>-0.2665340       </td><td>Graduate         </td><td>Married          </td><td>Unknown          </td><td>Blue             </td><td> 0.13417668      </td><td> 1.4072367       </td><td>-1.3270705       </td><td>-0.4115957       </td><td> 0.6423358       </td><td>-0.007133929     </td><td> 0.64284046      </td><td> 0.940022733     </td><td>-0.9411141       </td><td>-1.8685084       </td><td> 0.826497773     </td><td>-0.706926306     </td></tr>\n",
       "\t<tr><th scope=row>22</th><td>Attrited Customer</td><td> 1.95514573      </td><td>F                </td><td>-1.8062885       </td><td>Graduate         </td><td>Married          </td><td>Less than $40K   </td><td>Blue             </td><td> 1.63672795      </td><td>-1.1660905       </td><td> 0.6519080       </td><td> 0.4923795       </td><td>-0.7914876       </td><td>-1.426787891     </td><td>-0.66340869      </td><td> 1.309536869     </td><td>-1.0927127       </td><td>-2.0815230       </td><td>-0.471352086     </td><td>-0.997105760     </td></tr>\n",
       "\t<tr><th scope=row>24</th><td>Existing Customer</td><td> 0.08407825      </td><td>F                </td><td> 1.2732205       </td><td>Unknown          </td><td>Single           </td><td>Less than $40K   </td><td>Blue             </td><td> 0.00896407      </td><td>-0.5227587       </td><td> 0.6519080       </td><td>-0.4115957       </td><td>-0.6755534       </td><td> 0.487352283     </td><td>-0.71910306      </td><td>-0.852805113     </td><td>-0.9649578       </td><td>-1.7833025       </td><td>-1.508791941     </td><td> 1.273548467     </td></tr>\n",
       "\t<tr><th scope=row>25</th><td>Existing Customer</td><td> 0.95724307      </td><td>M                </td><td>-0.2665340       </td><td>Unknown          </td><td>Married          </td><td>$80K - $120K     </td><td>Blue             </td><td> 0.76023971      </td><td> 0.1205731       </td><td>-0.3375813       </td><td> 0.4923795       </td><td> 0.3944476       </td><td>-1.426787891     </td><td> 0.52227750      </td><td> 1.437270151     </td><td>-0.9696676       </td><td>-1.8685084       </td><td> 0.158672117     </td><td>-0.997105760     </td></tr>\n",
       "\t<tr><th scope=row>26</th><td>Existing Customer</td><td>-0.66434874      </td><td>F                </td><td> 0.5033433       </td><td>Graduate         </td><td>Single           </td><td>Less than $40K   </td><td>Blue             </td><td>-0.99273678      </td><td> 1.4072367       </td><td>-1.3270705       </td><td>-0.4115957       </td><td>-0.0950572       </td><td> 0.621096693     </td><td>-0.15071907      </td><td> 0.169061140     </td><td>-0.9870352       </td><td>-1.8259055       </td><td> 0.507285510     </td><td>-0.217248477     </td></tr>\n",
       "\t<tr><th scope=row>35</th><td>Existing Customer</td><td> 1.45619440      </td><td>M                </td><td>-1.8062885       </td><td>Graduate         </td><td>Married          </td><td>$80K - $120K     </td><td>Blue             </td><td> 1.63672795      </td><td> 1.4072367       </td><td>-0.3375813       </td><td>-0.4115957       </td><td> 0.4316363       </td><td> 0.654226042     </td><td> 0.37289382      </td><td>-1.099147871     </td><td>-0.9163874       </td><td>-1.7406996       </td><td> 0.007466308     </td><td>-0.507427931     </td></tr>\n",
       "\t<tr><th scope=row>36</th><td>Existing Customer</td><td> 1.08198090      </td><td>F                </td><td>-1.0364112       </td><td>College          </td><td>Single           </td><td>Less than $40K   </td><td>Blue             </td><td> 0.00896407      </td><td> 0.1205731       </td><td>-0.3375813       </td><td>-1.3155708       </td><td>-0.5624468       </td><td> 0.921714861     </td><td>-0.64496124      </td><td>-1.140204997     </td><td>-0.8822409       </td><td>-0.9312442       </td><td>-0.962770965     </td><td> 0.976114527     </td></tr>\n",
       "\t<tr><th scope=row>45</th><td>Existing Customer</td><td>-1.03856224      </td><td>F                </td><td> 1.2732205       </td><td>Graduate         </td><td>Single           </td><td>Unknown          </td><td>Blue             </td><td>-0.99273678      </td><td>-1.1660905       </td><td> 0.6519080       </td><td> 0.4923795       </td><td> 0.1318160       </td><td> 1.094723685     </td><td> 0.03364547      </td><td> 0.990203665     </td><td>-0.9896845       </td><td>-1.7833025       </td><td> 0.860099063     </td><td>-0.239011936     </td></tr>\n",
       "\t<tr><th scope=row>50</th><td>Existing Customer</td><td> 0.70776741      </td><td>M                </td><td>-1.0364112       </td><td>College          </td><td>Single           </td><td>$80K - $120K     </td><td>Blue             </td><td> 0.50981449      </td><td> 0.7639049       </td><td>-1.3270705       </td><td>-1.3155708       </td><td>-0.4276652       </td><td> 0.078756977     </td><td>-0.43463606      </td><td>-0.620148065     </td><td>-0.9608367       </td><td>-1.0590529       </td><td>-0.471352086     </td><td>-0.057649778     </td></tr>\n",
       "\t<tr><th scope=row>52</th><td>Attrited Customer</td><td> 0.95724307      </td><td>F                </td><td>-1.0364112       </td><td>Graduate         </td><td>Married          </td><td>Less than $40K   </td><td>Blue             </td><td> 0.50981449      </td><td>-1.1660905       </td><td> 0.6519080       </td><td>-1.3155708       </td><td>-0.7914876       </td><td>-0.435361442     </td><td>-0.75229088      </td><td> 1.081441723     </td><td>-1.0888859       </td><td>-1.9537142       </td><td> 0.788696320     </td><td> 1.041404904     </td></tr>\n",
       "\t<tr><th scope=row>55</th><td>Attrited Customer</td><td> 1.20671874      </td><td>M                </td><td>-0.2665340       </td><td>Graduate         </td><td>Married          </td><td>$120K +          </td><td>Blue             </td><td> 0.00896407      </td><td>-1.8094223       </td><td> 0.6519080       </td><td> 0.4923795       </td><td> 0.7852593       </td><td>-1.426787891     </td><td> 0.91300711      </td><td> 1.282165452     </td><td>-1.1192057       </td><td>-2.1241259       </td><td>-1.462590166     </td><td>-0.997105760     </td></tr>\n",
       "\t<tr><th scope=row>56</th><td>Existing Customer</td><td> 0.33355391      </td><td>F                </td><td> 1.2732205       </td><td>Graduate         </td><td>Unknown          </td><td>Less than $40K   </td><td>Blue             </td><td> 0.00896407      </td><td> 1.4072367       </td><td> 1.6413972       </td><td>-0.4115957       </td><td>-0.5868726       </td><td> 1.272640560     </td><td>-0.70084261      </td><td>-0.373805307     </td><td>-0.9867409       </td><td>-1.3998763       </td><td>-0.471352086     </td><td> 1.422265437     </td></tr>\n",
       "\t<tr><th scope=row>61</th><td>Existing Customer</td><td> 1.08198090      </td><td>M                </td><td> 0.5033433       </td><td>Unknown          </td><td>Married          </td><td>$80K - $120K     </td><td>Blue             </td><td> 1.38630273      </td><td> 0.1205731       </td><td>-0.3375813       </td><td> 0.4923795       </td><td>-0.5716890       </td><td> 1.046870180     </td><td>-0.66542174      </td><td> 0.643499043     </td><td>-0.9734944       </td><td>-1.3572734       </td><td> 0.507285510     </td><td> 1.132085983     </td></tr>\n",
       "\t<tr><th scope=row>63</th><td>Existing Customer</td><td>-0.91382440      </td><td>M                </td><td>-1.0364112       </td><td>High School      </td><td>Divorced         </td><td>$60K - $80K      </td><td>Blue             </td><td>-0.36667375      </td><td> 0.7639049       </td><td> 0.6519080       </td><td> 0.4923795       </td><td>-0.2977247       </td><td> 0.108205287     </td><td>-0.30736293      </td><td> 0.839660869     </td><td>-0.9090282       </td><td>-1.5702880       </td><td> 1.855537305     </td><td>-0.231757450     </td></tr>\n",
       "\t<tr><th scope=row>65</th><td>Existing Customer</td><td> 0.83250524      </td><td>M                </td><td>-0.2665340       </td><td>High School      </td><td>Single           </td><td>$120K +          </td><td>Blue             </td><td> 1.01066492      </td><td> 0.1205731       </td><td>-0.3375813       </td><td>-0.4115957       </td><td> 0.6713826       </td><td> 0.578151240     </td><td> 0.61940989      </td><td> 1.044946500     </td><td>-0.9169761       </td><td>-1.7833025       </td><td> 0.860099063     </td><td>-0.594481767     </td></tr>\n",
       "\t<tr><th scope=row>67</th><td>Existing Customer</td><td> 1.33145657      </td><td>M                </td><td>-0.2665340       </td><td>College          </td><td>Married          </td><td>$60K - $80K      </td><td>Blue             </td><td> 2.01236576      </td><td> 0.7639049       </td><td> 0.6519080       </td><td> 0.4923795       </td><td>-0.2253278       </td><td> 0.802694607     </td><td>-0.29724268      </td><td>-0.638395676     </td><td>-0.8981367       </td><td>-1.2720675       </td><td>-0.189941275     </td><td> 0.004013356     </td></tr>\n",
       "\t<tr><th scope=row>68</th><td>Existing Customer</td><td>-0.29013525      </td><td>F                </td><td>-0.2665340       </td><td>Uneducated       </td><td>Single           </td><td>Less than $40K   </td><td>Blue             </td><td>-1.99443762      </td><td> 1.4072367       </td><td> 0.6519080       </td><td> 0.4923795       </td><td>-0.7204439       </td><td> 0.374467093     </td><td>-0.75386392      </td><td> 1.113375044     </td><td>-0.9631916       </td><td>-1.5702880       </td><td>-0.656159186     </td><td> 1.556473435     </td></tr>\n",
       "\t<tr><th scope=row>72</th><td>Existing Customer</td><td> 1.08198090      </td><td>F                </td><td>-0.2665340       </td><td>Graduate         </td><td>Married          </td><td>Less than $40K   </td><td>Blue             </td><td> 0.76023971      </td><td> 0.7639049       </td><td> 0.6519080       </td><td> 0.4923795       </td><td>-0.7059205       </td><td>-0.158056519     </td><td>-0.69160238      </td><td>-0.008853074     </td><td>-0.8430902       </td><td>-1.2294646       </td><td>-1.790202752     </td><td> 0.696816803     </td></tr>\n",
       "\t<tr><th scope=row>73</th><td>Existing Customer</td><td> 0.95724307      </td><td>M                </td><td>-1.0364112       </td><td>Graduate         </td><td>Unknown          </td><td>$60K - $80K      </td><td>Blue             </td><td> 0.88545231      </td><td> 0.1205731       </td><td>-0.3375813       </td><td> 0.4923795       </td><td>-0.6295626       </td><td> 1.064048361     </td><td>-0.72482320      </td><td> 0.041327858     </td><td>-0.9266902       </td><td>-1.8685084       </td><td>-1.311384357     </td><td> 1.534709976     </td></tr>\n",
       "\t<tr><th scope=row>76</th><td>Existing Customer</td><td> 0.83250524      </td><td>M                </td><td>-0.2665340       </td><td>Graduate         </td><td>Single           </td><td>$80K - $120K     </td><td>Blue             </td><td> 0.00896407      </td><td> 0.7639049       </td><td> 0.6519080       </td><td>-0.4115957       </td><td>-0.3696816       </td><td> 0.432136701     </td><td>-0.40834541      </td><td> 0.442775315     </td><td>-0.9169761       </td><td>-1.3572734       </td><td>-1.164378710     </td><td> 0.043913031     </td></tr>\n",
       "\t<tr><th scope=row>78</th><td>Existing Customer</td><td>-1.16330007      </td><td>F                </td><td> 0.5033433       </td><td>Uneducated       </td><td>Single           </td><td>Less than $40K   </td><td>Blue             </td><td>-0.86752417      </td><td> 0.1205731       </td><td> 1.6413972       </td><td>-0.4115957       </td><td>-0.1753760       </td><td> 0.783062400     </td><td>-0.24554140      </td><td>-0.040786394     </td><td>-0.6078916       </td><td>-0.3348033       </td><td> 1.065906970     </td><td>-0.068531507     </td></tr>\n",
       "\t<tr><th scope=row>79</th><td>Existing Customer</td><td> 0.33355391      </td><td>M                </td><td> 0.5033433       </td><td>Graduate         </td><td>Divorced         </td><td>$60K - $80K      </td><td>Blue             </td><td>-0.74231156      </td><td> 1.4072367       </td><td>-1.3270705       </td><td>-0.4115957       </td><td>-0.6707122       </td><td> 0.810056684     </td><td>-0.74319365      </td><td>-0.259757734     </td><td>-0.8642845       </td><td>-1.7833025       </td><td>-1.508791941     </td><td> 1.610882082     </td></tr>\n",
       "\t<tr><th scope=row>83</th><td>Attrited Customer</td><td> 1.08198090      </td><td>F                </td><td> 1.2732205       </td><td>Unknown          </td><td>Married          </td><td>$40K - $60K      </td><td>Blue             </td><td> 1.13587752      </td><td>-1.1660905       </td><td> 1.6413972       </td><td> 0.4923795       </td><td>-0.7123020       </td><td>-1.426787891     </td><td>-0.58423974      </td><td>-0.798062278     </td><td>-1.1153789       </td><td>-2.2519346       </td><td> 0.007466308     </td><td>-0.997105760     </td></tr>\n",
       "\t<tr><th scope=row>84</th><td>Existing Customer</td><td> 1.58093223      </td><td>F                </td><td>-1.0364112       </td><td>Graduate         </td><td>Married          </td><td>Unknown          </td><td>Blue             </td><td> 2.01236576      </td><td>-1.1660905       </td><td> 0.6519080       </td><td> 0.4923795       </td><td> 0.1651538       </td><td> 0.311889434     </td><td> 0.13715802      </td><td>-1.719566668     </td><td>-0.9820310       </td><td>-1.9111113       </td><td> 0.444283089     </td><td>-0.489291715     </td></tr>\n",
       "\t<tr><th scope=row>88</th><td>Existing Customer</td><td>-0.41487308      </td><td>F                </td><td> 0.5033433       </td><td>Uneducated       </td><td>Single           </td><td>Less than $40K   </td><td>Blue             </td><td>-0.11624854      </td><td> 0.7639049       </td><td>-0.3375813       </td><td> 0.4923795       </td><td>-0.5067738       </td><td>-1.426787891     </td><td>-0.37875468      </td><td>-1.263376376     </td><td>-0.9322831       </td><td>-1.3998763       </td><td>-0.471352086     </td><td>-0.997105760     </td></tr>\n",
       "\t<tr><th scope=row>93</th><td>Existing Customer</td><td>-0.16539741      </td><td>M                </td><td>-1.0364112       </td><td>Graduate         </td><td>Single           </td><td>$40K - $60K      </td><td>Blue             </td><td> 0.00896407      </td><td> 0.1205731       </td><td> 1.6413972       </td><td> 0.4923795       </td><td>-0.2262080       </td><td>-1.426787891     </td><td>-0.09824778      </td><td>-0.825433696     </td><td>-0.8651676       </td><td>-1.3146704       </td><td>-0.391549020     </td><td>-0.997105760     </td></tr>\n",
       "\t<tr><th scope=row>94</th><td>Existing Customer</td><td> 0.83250524      </td><td>M                </td><td>-1.8062885       </td><td>Graduate         </td><td>Single           </td><td>$80K - $120K     </td><td>Blue             </td><td> 0.76023971      </td><td> 0.7639049       </td><td> 1.6413972       </td><td>-1.3155708       </td><td>-0.6566289       </td><td> 1.072637452     </td><td>-0.75265389      </td><td> 0.410841995     </td><td>-0.9178592       </td><td>-1.5276850       </td><td> 0.927301645     </td><td> 1.777735268     </td></tr>\n",
       "\t<tr><th scope=row>97</th><td>Existing Customer</td><td>-0.16539741      </td><td>M                </td><td> 0.5033433       </td><td>Graduate         </td><td>Married          </td><td>$40K - $60K      </td><td>Blue             </td><td>-0.11624854      </td><td> 0.7639049       </td><td> 1.6413972       </td><td>-0.4115957       </td><td>-0.5697085       </td><td> 0.045627628     </td><td>-0.57367948      </td><td>-0.743319443     </td><td>-0.9099113       </td><td>-1.4850821       </td><td>-1.714599847     </td><td> 0.261547622     </td></tr>\n",
       "\t<tr><th scope=row>...</th><td>...</td><td>...</td><td>...</td><td>...</td><td>...</td><td>...</td><td>...</td><td>...</td><td>...</td><td>...</td><td>...</td><td>...</td><td>...</td><td>...</td><td>...</td><td>...</td><td>...</td><td>...</td><td>...</td><td>...</td></tr>\n",
       "\t<tr><th scope=row>9689</th><td>Attrited Customer</td><td>-0.41487308      </td><td>M                </td><td> 2.0430978       </td><td>Graduate         </td><td>Married          </td><td>$60K - $80K      </td><td>Blue             </td><td>-1.36837459      </td><td>-1.8094223       </td><td>-0.3375813       </td><td> 0.4923795       </td><td>-0.48113777      </td><td>-1.4267879       </td><td>-0.35312405      </td><td> 0.794041840     </td><td>1.0564549        </td><td> 0.26163753      </td><td>-0.25714386      </td><td>-0.99710576      </td></tr>\n",
       "\t<tr><th scope=row>9694</th><td>Attrited Customer</td><td>-1.78698923      </td><td>M                </td><td>-1.8062885       </td><td>College          </td><td>Single           </td><td>$60K - $80K      </td><td>Blue             </td><td>-1.49358720      </td><td>-0.5227587       </td><td>-0.3375813       </td><td> 0.4923795       </td><td>-0.49896195      </td><td>-1.4267879       </td><td>-0.37094449      </td><td> 0.346975354     </td><td>1.1691971        </td><td>-0.03658289      </td><td>-0.11853853      </td><td>-0.99710576      </td></tr>\n",
       "\t<tr><th scope=row>9695</th><td>Attrited Customer</td><td>-0.66434874      </td><td>F                </td><td> 0.5033433       </td><td>High School      </td><td>Married          </td><td>Less than $40K   </td><td>Blue             </td><td>-0.61709896      </td><td>-0.5227587       </td><td> 0.6519080       </td><td> 0.4923795       </td><td>-0.51491569      </td><td>-1.4267879       </td><td>-0.38689488      </td><td> 1.104251238     </td><td>1.1294577        </td><td> 0.73026963      </td><td> 1.00710471      </td><td>-0.99710576      </td></tr>\n",
       "\t<tr><th scope=row>9701</th><td>Attrited Customer</td><td> 0.08407825      </td><td>M                </td><td>-0.2665340       </td><td>Graduate         </td><td>Married          </td><td>$80K - $120K     </td><td>Blue             </td><td> 0.00896407      </td><td>-0.5227587       </td><td> 0.6519080       </td><td>-0.4115957       </td><td> 0.47322610      </td><td> 1.3204941       </td><td> 0.35474337      </td><td>-1.436728687     </td><td>0.6358056        </td><td>-0.37740624      </td><td>-0.83256596      </td><td>-0.36959269      </td></tr>\n",
       "\t<tr><th scope=row>9718</th><td>Attrited Customer</td><td>-0.41487308      </td><td>M                </td><td> 0.5033433       </td><td>Uneducated       </td><td>Single           </td><td>$40K - $60K      </td><td>Blue             </td><td> 0.00896407      </td><td>-0.5227587       </td><td> 0.6519080       </td><td> 0.4923795       </td><td> 0.06987148      </td><td>-1.4267879       </td><td> 0.19776951      </td><td> 0.483832441     </td><td>1.0558661        </td><td> 1.07109298      </td><td> 1.59932746      </td><td>-0.99710576      </td></tr>\n",
       "\t<tr><th scope=row>9748</th><td>Attrited Customer</td><td>-1.78698923      </td><td>M                </td><td>-1.8062885       </td><td>Post-Graduate    </td><td>Married          </td><td>$60K - $80K      </td><td>Blue             </td><td>-1.36837459      </td><td> 1.4072367       </td><td>-0.3375813       </td><td>-0.4115957       </td><td>-0.45803235      </td><td> 1.4333793       </td><td>-0.58643979      </td><td> 1.122498850     </td><td>1.1509464        </td><td> 0.09122586      </td><td> 0.21327421      </td><td> 0.89631518      </td></tr>\n",
       "\t<tr><th scope=row>9753</th><td>Attrited Customer</td><td> 0.08407825      </td><td>M                </td><td> 0.5033433       </td><td>Graduate         </td><td>Single           </td><td>$40K - $60K      </td><td>Blue             </td><td>-0.24146114      </td><td> 0.1205731       </td><td> 0.6519080       </td><td> 0.4923795       </td><td>-0.46419379      </td><td>-1.1421209       </td><td>-0.36170426      </td><td> 0.178184946     </td><td>1.0199534        </td><td> 0.47465212      </td><td> 0.23007486      </td><td>-0.80486187      </td></tr>\n",
       "\t<tr><th scope=row>9755</th><td>Attrited Customer</td><td> 0.70776741      </td><td>M                </td><td>-1.0364112       </td><td>Unknown          </td><td>Married          </td><td>$40K - $60K      </td><td>Blue             </td><td> 0.00896407      </td><td> 0.1205731       </td><td> 0.6519080       </td><td> 0.4923795       </td><td>-0.01946947      </td><td> 1.6616037       </td><td>-0.16842951      </td><td> 0.223803975     </td><td>1.0950168        </td><td> 0.34684337      </td><td> 1.32631697      </td><td> 0.08381271      </td></tr>\n",
       "\t<tr><th scope=row>9760</th><td>Attrited Customer</td><td>-0.29013525      </td><td>M                </td><td> 0.5033433       </td><td>High School      </td><td>Unknown          </td><td>$120K +          </td><td>Blue             </td><td> 0.00896407      </td><td>-1.1660905       </td><td> 0.6519080       </td><td>-0.4115957       </td><td>-0.09230656      </td><td> 1.3585315       </td><td>-0.21408063      </td><td> 0.844222772     </td><td>1.1350506        </td><td>-0.46261208      </td><td>-0.89136822      </td><td> 0.05842200      </td></tr>\n",
       "\t<tr><th scope=row>9769</th><td>Attrited Customer</td><td>-2.16120272      </td><td>M                </td><td>-1.8062885       </td><td>Graduate         </td><td>Single           </td><td>$120K +          </td><td>Blue             </td><td>-1.74401241      </td><td>-1.1660905       </td><td>-0.3375813       </td><td> 0.4923795       </td><td> 0.33998484      </td><td>-1.4267879       </td><td> 0.46782616      </td><td> 0.082384985     </td><td>1.1474140        </td><td> 0.55985796      </td><td> 0.79709664      </td><td>-0.99710576      </td></tr>\n",
       "\t<tr><th scope=row>9770</th><td>Attrited Customer</td><td>-0.66434874      </td><td>M                </td><td> 1.2732205       </td><td>High School      </td><td>Married          </td><td>Less than $40K   </td><td>Blue             </td><td>-0.49188635      </td><td>-1.1660905       </td><td> 0.6519080       </td><td> 0.4923795       </td><td>-0.09494718      </td><td>-1.4267879       </td><td> 0.03298545      </td><td> 0.835098966     </td><td>1.0906013        </td><td> 0.38944629      </td><td> 0.20907405      </td><td>-0.99710576      </td></tr>\n",
       "\t<tr><th scope=row>9778</th><td>Attrited Customer</td><td>-0.41487308      </td><td>F                </td><td> 0.5033433       </td><td>Doctorate        </td><td>Single           </td><td>Less than $40K   </td><td>Blue             </td><td>-0.74231156      </td><td>-1.8094223       </td><td>-0.3375813       </td><td>-0.4115957       </td><td>-0.26086610      </td><td>-0.8586809       </td><td>-0.18382988      </td><td> 0.588756208     </td><td>1.0973718        </td><td>-0.03658289      </td><td>-0.47135209      </td><td>-0.72868976      </td></tr>\n",
       "\t<tr><th scope=row>9801</th><td>Attrited Customer</td><td>-1.03856224      </td><td>M                </td><td>-1.0364112       </td><td>Unknown          </td><td>Married          </td><td>$40K - $60K      </td><td>Blue             </td><td>-2.24486283      </td><td>-1.8094223       </td><td>-1.3270705       </td><td>-0.4115957       </td><td> 0.11355173      </td><td> 1.0063788       </td><td> 0.02330521      </td><td> 0.515765762     </td><td>1.0570436        </td><td>-0.37740624      </td><td> 0.39388115      </td><td>-0.25352091      </td></tr>\n",
       "\t<tr><th scope=row>9806</th><td>Attrited Customer</td><td>-0.41487308      </td><td>F                </td><td> 0.5033433       </td><td>Uneducated       </td><td>Unknown          </td><td>Less than $40K   </td><td>Blue             </td><td>-1.49358720      </td><td>-1.8094223       </td><td>-0.3375813       </td><td>-0.4115957       </td><td>-0.04136461      </td><td> 1.5376754       </td><td>-0.17920977      </td><td>-0.291691055     </td><td>1.0891295        </td><td>-0.03658289      </td><td> 0.07466889      </td><td> 0.06567649      </td></tr>\n",
       "\t<tr><th scope=row>9812</th><td>Attrited Customer</td><td>-1.78698923      </td><td>F                </td><td>-1.0364112       </td><td>Graduate         </td><td>Married          </td><td>Less than $40K   </td><td>Blue             </td><td>-1.61879981      </td><td>-1.8094223       </td><td>-0.3375813       </td><td> 0.4923795       </td><td>-0.50248277      </td><td>-1.1445749       </td><td>-0.39976520      </td><td> 0.086946887     </td><td>1.0125943        </td><td>-0.03658289      </td><td> 0.07466889      </td><td>-0.79035290      </td></tr>\n",
       "\t<tr><th scope=row>9849</th><td>Attrited Customer</td><td>-2.03646489      </td><td>M                </td><td>-1.8062885       </td><td>Graduate         </td><td>Married          </td><td>$40K - $60K      </td><td>Blue             </td><td>-1.61879981      </td><td> 1.4072367       </td><td>-0.3375813       </td><td> 1.3963546       </td><td>-0.50270283      </td><td>-1.4267879       </td><td>-0.37468458      </td><td> 0.073261179     </td><td>0.9004408        </td><td> 0.21903461      </td><td>-0.02193482      </td><td>-0.99710576      </td></tr>\n",
       "\t<tr><th scope=row>9855</th><td>Attrited Customer</td><td> 0.58302958      </td><td>F                </td><td> 1.2732205       </td><td>Post-Graduate    </td><td>Married          </td><td>$40K - $60K      </td><td>Silver           </td><td> 0.88545231      </td><td>-1.8094223       </td><td> 0.6519080       </td><td> 0.4923795       </td><td>-0.53879129      </td><td>-1.4267879       </td><td>-0.41076547      </td><td> 0.009394538     </td><td>0.7129295        </td><td>-0.16439165      </td><td> 0.57028793      </td><td>-0.99710576      </td></tr>\n",
       "\t<tr><th scope=row>9870</th><td>Attrited Customer</td><td>-0.53961091      </td><td>F                </td><td> 1.2732205       </td><td>Graduate         </td><td>Single           </td><td>$40K - $60K      </td><td>Blue             </td><td>-0.74231156      </td><td> 1.4072367       </td><td> 0.6519080       </td><td> 0.4923795       </td><td> 0.56344726      </td><td> 1.6616037       </td><td> 0.41436484      </td><td>-0.492414783     </td><td>0.9007351        </td><td> 0.04862294      </td><td>-0.08493724      </td><td>-0.33332026      </td></tr>\n",
       "\t<tr><th scope=row>9889</th><td>Attrited Customer</td><td> 0.58302958      </td><td>M                </td><td> 0.5033433       </td><td>High School      </td><td>Married          </td><td>$80K - $120K     </td><td>Blue             </td><td> 1.38630273      </td><td>-1.1660905       </td><td> 1.6413972       </td><td> 0.4923795       </td><td>-0.50512339      </td><td>-1.4267879       </td><td>-0.37710464      </td><td>-0.410300530     </td><td>1.1229816        </td><td> 0.81547547      </td><td> 0.82649777      </td><td>-0.99710576      </td></tr>\n",
       "\t<tr><th scope=row>9907</th><td>Attrited Customer</td><td> 1.33145657      </td><td>F                </td><td>-1.0364112       </td><td>Uneducated       </td><td>Single           </td><td>Less than $40K   </td><td>Blue             </td><td> 1.26109013      </td><td>-1.1660905       </td><td> 0.6519080       </td><td> 0.4923795       </td><td> 0.05468792      </td><td>-1.4267879       </td><td> 0.18258913      </td><td>-0.122900647     </td><td>0.9799196        </td><td> 0.68766672      </td><td> 0.72149374      </td><td>-0.99710576      </td></tr>\n",
       "\t<tr><th scope=row>9944</th><td>Attrited Customer</td><td> 0.70776741      </td><td>M                </td><td>-0.2665340       </td><td>College          </td><td>Single           </td><td>$120K +          </td><td>Blue             </td><td>-0.49188635      </td><td> 0.1205731       </td><td> 0.6519080       </td><td>-1.3155708       </td><td>-0.40676032      </td><td>-1.4267879       </td><td>-0.27876222      </td><td>-0.214138705     </td><td>1.0249577        </td><td>-0.03658289      </td><td> 0.71309342      </td><td>-0.99710576      </td></tr>\n",
       "\t<tr><th scope=row>9955</th><td>Attrited Customer</td><td>-0.91382440      </td><td>M                </td><td> 1.2732205       </td><td>Graduate         </td><td>Married          </td><td>$80K - $120K     </td><td>Blue             </td><td>-0.61709896      </td><td>-1.8094223       </td><td> 0.6519080       </td><td> 0.4923795       </td><td>-0.51744628      </td><td>-0.7617469       </td><td>-0.44904641      </td><td> 0.232927781     </td><td>0.9916943        </td><td>-0.03658289      </td><td> 0.07466889      </td><td>-0.49654620      </td></tr>\n",
       "\t<tr><th scope=row>9973</th><td>Attrited Customer</td><td> 0.70776741      </td><td>M                </td><td> 0.5033433       </td><td>Unknown          </td><td>Single           </td><td>$80K - $120K     </td><td>Blue             </td><td> 1.01066492      </td><td>-1.8094223       </td><td>-0.3375813       </td><td> 1.3963546       </td><td>-0.56178668      </td><td> 1.5536265       </td><td>-0.70095261      </td><td>-0.218700608     </td><td>0.9922830        </td><td>-0.07918581      </td><td> 0.82649777      </td><td> 1.50206479      </td></tr>\n",
       "\t<tr><th scope=row>9989</th><td>Attrited Customer</td><td>-0.04065958      </td><td>F                </td><td> 0.5033433       </td><td>Unknown          </td><td>Married          </td><td>$40K - $60K      </td><td>Blue             </td><td> 0.13417668      </td><td>-1.1660905       </td><td> 0.6519080       </td><td> 1.3963546       </td><td>-0.33997465      </td><td>-1.4267879       </td><td>-0.21199058      </td><td> 0.219242072     </td><td>1.1309295        </td><td>-0.24959749      </td><td>-0.30754579      </td><td>-0.99710576      </td></tr>\n",
       "\t<tr><th scope=row>10002</th><td>Attrited Customer</td><td>-1.66225139      </td><td>M                </td><td> 1.2732205       </td><td>College          </td><td>Single           </td><td>$40K - $60K      </td><td>Silver           </td><td>-1.99443762      </td><td>-1.1660905       </td><td>-1.3270705       </td><td> 0.4923795       </td><td> 0.80814466      </td><td>-1.4267879       </td><td> 0.93588768      </td><td>-0.264319637     </td><td>0.9834520        </td><td>-0.03658289      </td><td>-0.11853853      </td><td>-0.99710576      </td></tr>\n",
       "\t<tr><th scope=row>10023</th><td>Attrited Customer</td><td>-0.04065958      </td><td>M                </td><td> 0.5033433       </td><td>Graduate         </td><td>Married          </td><td>$60K - $80K      </td><td>Blue             </td><td>-0.24146114      </td><td>-1.8094223       </td><td>-0.3375813       </td><td> 1.3963546       </td><td>-0.40731045      </td><td>-1.2316928       </td><td>-0.29680267      </td><td>-0.766128958     </td><td>0.8854281        </td><td>-0.20699457      </td><td>-0.55955547      </td><td>-0.88103398      </td></tr>\n",
       "\t<tr><th scope=row>10049</th><td>Attrited Customer</td><td> 0.20881608      </td><td>M                </td><td> 1.2732205       </td><td>College          </td><td>Married          </td><td>$80K - $120K     </td><td>Blue             </td><td> 1.01066492      </td><td>-1.1660905       </td><td> 0.6519080       </td><td> 0.4923795       </td><td> 0.09814812      </td><td> 0.3511538       </td><td> 0.06664628      </td><td>-0.916671754     </td><td>0.9192802        </td><td>-0.29220040      </td><td>-0.23194289      </td><td>-0.44576480      </td></tr>\n",
       "\t<tr><th scope=row>10068</th><td>Attrited Customer</td><td> 0.33355391      </td><td>F                </td><td> 1.2732205       </td><td>Uneducated       </td><td>Married          </td><td>$40K - $60K      </td><td>Blue             </td><td> 0.00896407      </td><td> 0.7639049       </td><td>-0.3375813       </td><td> 0.4923795       </td><td>-0.49126014      </td><td>-1.4267879       </td><td>-0.36324430      </td><td>-0.816309890     </td><td>0.9378253        </td><td> 0.94328422      </td><td> 0.26787631      </td><td>-0.99710576      </td></tr>\n",
       "\t<tr><th scope=row>10090</th><td>Attrited Customer</td><td> 0.70776741      </td><td>F                </td><td> 2.0430978       </td><td>Unknown          </td><td>Married          </td><td>Less than $40K   </td><td>Blue             </td><td> 0.00896407      </td><td> 0.1205731       </td><td> 0.6519080       </td><td> 0.4923795       </td><td> 0.10772036      </td><td>-1.4267879       </td><td> 0.23561044      </td><td> 0.365222965     </td><td>0.9513661        </td><td>-0.03658289      </td><td> 0.49048486      </td><td>-0.99710576      </td></tr>\n",
       "\t<tr><th scope=row>10126</th><td>Attrited Customer</td><td>-2.03646489      </td><td>M                </td><td>-0.2665340       </td><td>Graduate         </td><td>Unknown          </td><td>$40K - $60K      </td><td>Blue             </td><td> 0.00896407      </td><td> 0.1205731       </td><td> 0.6519080       </td><td> 0.4923795       </td><td>-0.36869139      </td><td>-1.4267879       </td><td>-0.24070128      </td><td>-1.026157424     </td><td>1.1747901        </td><td>-0.12178873      </td><td> 0.04106760      </td><td>-0.99710576      </td></tr>\n",
       "</tbody>\n",
       "</table>\n"
      ],
      "text/latex": [
       "\\begin{tabular}{r|llllllllllllllllllll}\n",
       "  & Attrition\\_Flag & Customer\\_Age & Gender & Dependent\\_count & Education\\_Level & Marital\\_Status & Income\\_Category & Card\\_Category & Months\\_on\\_book & Total\\_Relationship\\_Count & Months\\_Inactive\\_12\\_mon & Contacts\\_Count\\_12\\_mon & Credit\\_Limit & Total\\_Revolving\\_Bal & Avg\\_Open\\_To\\_Buy & Total\\_Amt\\_Chng\\_Q4\\_Q1 & Total\\_Trans\\_Amt & Total\\_Trans\\_Ct & Total\\_Ct\\_Chng\\_Q4\\_Q1 & Avg\\_Utilization\\_Ratio\\\\\n",
       "\\hline\n",
       "\t11 & Existing Customer & -0.53961091       & M                 &  2.0430978        & Uneducated        & Unknown           & \\$120K +         & Blue              & -0.61709896       &  0.7639049        &  0.6519080        & -0.4115957        & -0.2072835        &  0.373240080      & -0.24070128       &  0.324165839      & -0.9428803        & -0.9738471        & -0.135339178      & -0.209993991     \\\\\n",
       "\t15 & Existing Customer &  1.33145657       & F                 & -0.2665340        & Graduate          & Married           & Less than \\$40K  & Blue              &  1.51151534       &  0.7639049        & -0.3375813        & -0.4115957        & -0.6817148        & -0.592419097      & -0.62846083       &  1.961888986      & -0.8342592        & -1.5276850        & -0.425150311      &  0.014895086     \\\\\n",
       "\t20 & Existing Customer & -0.16539741       & F                 & -0.2665340        & Graduate          & Married           & Unknown           & Blue              &  0.13417668       &  1.4072367        & -1.3270705        & -0.4115957        &  0.6423358        & -0.007133929      &  0.64284046       &  0.940022733      & -0.9411141        & -1.8685084        &  0.826497773      & -0.706926306     \\\\\n",
       "\t22 & Attrited Customer &  1.95514573       & F                 & -1.8062885        & Graduate          & Married           & Less than \\$40K  & Blue              &  1.63672795       & -1.1660905        &  0.6519080        &  0.4923795        & -0.7914876        & -1.426787891      & -0.66340869       &  1.309536869      & -1.0927127        & -2.0815230        & -0.471352086      & -0.997105760     \\\\\n",
       "\t24 & Existing Customer &  0.08407825       & F                 &  1.2732205        & Unknown           & Single            & Less than \\$40K  & Blue              &  0.00896407       & -0.5227587        &  0.6519080        & -0.4115957        & -0.6755534        &  0.487352283      & -0.71910306       & -0.852805113      & -0.9649578        & -1.7833025        & -1.508791941      &  1.273548467     \\\\\n",
       "\t25 & Existing Customer  &  0.95724307        & M                  & -0.2665340         & Unknown            & Married            & \\$80K - \\$120K   & Blue               &  0.76023971        &  0.1205731         & -0.3375813         &  0.4923795         &  0.3944476         & -1.426787891       &  0.52227750        &  1.437270151       & -0.9696676         & -1.8685084         &  0.158672117       & -0.997105760      \\\\\n",
       "\t26 & Existing Customer & -0.66434874       & F                 &  0.5033433        & Graduate          & Single            & Less than \\$40K  & Blue              & -0.99273678       &  1.4072367        & -1.3270705        & -0.4115957        & -0.0950572        &  0.621096693      & -0.15071907       &  0.169061140      & -0.9870352        & -1.8259055        &  0.507285510      & -0.217248477     \\\\\n",
       "\t35 & Existing Customer  &  1.45619440        & M                  & -1.8062885         & Graduate           & Married            & \\$80K - \\$120K   & Blue               &  1.63672795        &  1.4072367         & -0.3375813         & -0.4115957         &  0.4316363         &  0.654226042       &  0.37289382        & -1.099147871       & -0.9163874         & -1.7406996         &  0.007466308       & -0.507427931      \\\\\n",
       "\t36 & Existing Customer &  1.08198090       & F                 & -1.0364112        & College           & Single            & Less than \\$40K  & Blue              &  0.00896407       &  0.1205731        & -0.3375813        & -1.3155708        & -0.5624468        &  0.921714861      & -0.64496124       & -1.140204997      & -0.8822409        & -0.9312442        & -0.962770965      &  0.976114527     \\\\\n",
       "\t45 & Existing Customer & -1.03856224       & F                 &  1.2732205        & Graduate          & Single            & Unknown           & Blue              & -0.99273678       & -1.1660905        &  0.6519080        &  0.4923795        &  0.1318160        &  1.094723685      &  0.03364547       &  0.990203665      & -0.9896845        & -1.7833025        &  0.860099063      & -0.239011936     \\\\\n",
       "\t50 & Existing Customer  &  0.70776741        & M                  & -1.0364112         & College            & Single             & \\$80K - \\$120K   & Blue               &  0.50981449        &  0.7639049         & -1.3270705         & -1.3155708         & -0.4276652         &  0.078756977       & -0.43463606        & -0.620148065       & -0.9608367         & -1.0590529         & -0.471352086       & -0.057649778      \\\\\n",
       "\t52 & Attrited Customer &  0.95724307       & F                 & -1.0364112        & Graduate          & Married           & Less than \\$40K  & Blue              &  0.50981449       & -1.1660905        &  0.6519080        & -1.3155708        & -0.7914876        & -0.435361442      & -0.75229088       &  1.081441723      & -1.0888859        & -1.9537142        &  0.788696320      &  1.041404904     \\\\\n",
       "\t55 & Attrited Customer &  1.20671874       & M                 & -0.2665340        & Graduate          & Married           & \\$120K +         & Blue              &  0.00896407       & -1.8094223        &  0.6519080        &  0.4923795        &  0.7852593        & -1.426787891      &  0.91300711       &  1.282165452      & -1.1192057        & -2.1241259        & -1.462590166      & -0.997105760     \\\\\n",
       "\t56 & Existing Customer &  0.33355391       & F                 &  1.2732205        & Graduate          & Unknown           & Less than \\$40K  & Blue              &  0.00896407       &  1.4072367        &  1.6413972        & -0.4115957        & -0.5868726        &  1.272640560      & -0.70084261       & -0.373805307      & -0.9867409        & -1.3998763        & -0.471352086      &  1.422265437     \\\\\n",
       "\t61 & Existing Customer  &  1.08198090        & M                  &  0.5033433         & Unknown            & Married            & \\$80K - \\$120K   & Blue               &  1.38630273        &  0.1205731         & -0.3375813         &  0.4923795         & -0.5716890         &  1.046870180       & -0.66542174        &  0.643499043       & -0.9734944         & -1.3572734         &  0.507285510       &  1.132085983      \\\\\n",
       "\t63 & Existing Customer  & -0.91382440        & M                  & -1.0364112         & High School        & Divorced           & \\$60K - \\$80K    & Blue               & -0.36667375        &  0.7639049         &  0.6519080         &  0.4923795         & -0.2977247         &  0.108205287       & -0.30736293        &  0.839660869       & -0.9090282         & -1.5702880         &  1.855537305       & -0.231757450      \\\\\n",
       "\t65 & Existing Customer &  0.83250524       & M                 & -0.2665340        & High School       & Single            & \\$120K +         & Blue              &  1.01066492       &  0.1205731        & -0.3375813        & -0.4115957        &  0.6713826        &  0.578151240      &  0.61940989       &  1.044946500      & -0.9169761        & -1.7833025        &  0.860099063      & -0.594481767     \\\\\n",
       "\t67 & Existing Customer  &  1.33145657        & M                  & -0.2665340         & College            & Married            & \\$60K - \\$80K    & Blue               &  2.01236576        &  0.7639049         &  0.6519080         &  0.4923795         & -0.2253278         &  0.802694607       & -0.29724268        & -0.638395676       & -0.8981367         & -1.2720675         & -0.189941275       &  0.004013356      \\\\\n",
       "\t68 & Existing Customer & -0.29013525       & F                 & -0.2665340        & Uneducated        & Single            & Less than \\$40K  & Blue              & -1.99443762       &  1.4072367        &  0.6519080        &  0.4923795        & -0.7204439        &  0.374467093      & -0.75386392       &  1.113375044      & -0.9631916        & -1.5702880        & -0.656159186      &  1.556473435     \\\\\n",
       "\t72 & Existing Customer &  1.08198090       & F                 & -0.2665340        & Graduate          & Married           & Less than \\$40K  & Blue              &  0.76023971       &  0.7639049        &  0.6519080        &  0.4923795        & -0.7059205        & -0.158056519      & -0.69160238       & -0.008853074      & -0.8430902        & -1.2294646        & -1.790202752      &  0.696816803     \\\\\n",
       "\t73 & Existing Customer  &  0.95724307        & M                  & -1.0364112         & Graduate           & Unknown            & \\$60K - \\$80K    & Blue               &  0.88545231        &  0.1205731         & -0.3375813         &  0.4923795         & -0.6295626         &  1.064048361       & -0.72482320        &  0.041327858       & -0.9266902         & -1.8685084         & -1.311384357       &  1.534709976      \\\\\n",
       "\t76 & Existing Customer  &  0.83250524        & M                  & -0.2665340         & Graduate           & Single             & \\$80K - \\$120K   & Blue               &  0.00896407        &  0.7639049         &  0.6519080         & -0.4115957         & -0.3696816         &  0.432136701       & -0.40834541        &  0.442775315       & -0.9169761         & -1.3572734         & -1.164378710       &  0.043913031      \\\\\n",
       "\t78 & Existing Customer & -1.16330007       & F                 &  0.5033433        & Uneducated        & Single            & Less than \\$40K  & Blue              & -0.86752417       &  0.1205731        &  1.6413972        & -0.4115957        & -0.1753760        &  0.783062400      & -0.24554140       & -0.040786394      & -0.6078916        & -0.3348033        &  1.065906970      & -0.068531507     \\\\\n",
       "\t79 & Existing Customer  &  0.33355391        & M                  &  0.5033433         & Graduate           & Divorced           & \\$60K - \\$80K    & Blue               & -0.74231156        &  1.4072367         & -1.3270705         & -0.4115957         & -0.6707122         &  0.810056684       & -0.74319365        & -0.259757734       & -0.8642845         & -1.7833025         & -1.508791941       &  1.610882082      \\\\\n",
       "\t83 & Attrited Customer  &  1.08198090        & F                  &  1.2732205         & Unknown            & Married            & \\$40K - \\$60K    & Blue               &  1.13587752        & -1.1660905         &  1.6413972         &  0.4923795         & -0.7123020         & -1.426787891       & -0.58423974        & -0.798062278       & -1.1153789         & -2.2519346         &  0.007466308       & -0.997105760      \\\\\n",
       "\t84 & Existing Customer &  1.58093223       & F                 & -1.0364112        & Graduate          & Married           & Unknown           & Blue              &  2.01236576       & -1.1660905        &  0.6519080        &  0.4923795        &  0.1651538        &  0.311889434      &  0.13715802       & -1.719566668      & -0.9820310        & -1.9111113        &  0.444283089      & -0.489291715     \\\\\n",
       "\t88 & Existing Customer & -0.41487308       & F                 &  0.5033433        & Uneducated        & Single            & Less than \\$40K  & Blue              & -0.11624854       &  0.7639049        & -0.3375813        &  0.4923795        & -0.5067738        & -1.426787891      & -0.37875468       & -1.263376376      & -0.9322831        & -1.3998763        & -0.471352086      & -0.997105760     \\\\\n",
       "\t93 & Existing Customer  & -0.16539741        & M                  & -1.0364112         & Graduate           & Single             & \\$40K - \\$60K    & Blue               &  0.00896407        &  0.1205731         &  1.6413972         &  0.4923795         & -0.2262080         & -1.426787891       & -0.09824778        & -0.825433696       & -0.8651676         & -1.3146704         & -0.391549020       & -0.997105760      \\\\\n",
       "\t94 & Existing Customer  &  0.83250524        & M                  & -1.8062885         & Graduate           & Single             & \\$80K - \\$120K   & Blue               &  0.76023971        &  0.7639049         &  1.6413972         & -1.3155708         & -0.6566289         &  1.072637452       & -0.75265389        &  0.410841995       & -0.9178592         & -1.5276850         &  0.927301645       &  1.777735268      \\\\\n",
       "\t97 & Existing Customer  & -0.16539741        & M                  &  0.5033433         & Graduate           & Married            & \\$40K - \\$60K    & Blue               & -0.11624854        &  0.7639049         &  1.6413972         & -0.4115957         & -0.5697085         &  0.045627628       & -0.57367948        & -0.743319443       & -0.9099113         & -1.4850821         & -1.714599847       &  0.261547622      \\\\\n",
       "\t... & ... & ... & ... & ... & ... & ... & ... & ... & ... & ... & ... & ... & ... & ... & ... & ... & ... & ... & ... & ...\\\\\n",
       "\t9689 & Attrited Customer  & -0.41487308        & M                  &  2.0430978         & Graduate           & Married            & \\$60K - \\$80K    & Blue               & -1.36837459        & -1.8094223         & -0.3375813         &  0.4923795         & -0.48113777        & -1.4267879         & -0.35312405        &  0.794041840       & 1.0564549          &  0.26163753        & -0.25714386        & -0.99710576       \\\\\n",
       "\t9694 & Attrited Customer  & -1.78698923        & M                  & -1.8062885         & College            & Single             & \\$60K - \\$80K    & Blue               & -1.49358720        & -0.5227587         & -0.3375813         &  0.4923795         & -0.49896195        & -1.4267879         & -0.37094449        &  0.346975354       & 1.1691971          & -0.03658289        & -0.11853853        & -0.99710576       \\\\\n",
       "\t9695 & Attrited Customer & -0.66434874       & F                 &  0.5033433        & High School       & Married           & Less than \\$40K  & Blue              & -0.61709896       & -0.5227587        &  0.6519080        &  0.4923795        & -0.51491569       & -1.4267879        & -0.38689488       &  1.104251238      & 1.1294577         &  0.73026963       &  1.00710471       & -0.99710576      \\\\\n",
       "\t9701 & Attrited Customer  &  0.08407825        & M                  & -0.2665340         & Graduate           & Married            & \\$80K - \\$120K   & Blue               &  0.00896407        & -0.5227587         &  0.6519080         & -0.4115957         &  0.47322610        &  1.3204941         &  0.35474337        & -1.436728687       & 0.6358056          & -0.37740624        & -0.83256596        & -0.36959269       \\\\\n",
       "\t9718 & Attrited Customer  & -0.41487308        & M                  &  0.5033433         & Uneducated         & Single             & \\$40K - \\$60K    & Blue               &  0.00896407        & -0.5227587         &  0.6519080         &  0.4923795         &  0.06987148        & -1.4267879         &  0.19776951        &  0.483832441       & 1.0558661          &  1.07109298        &  1.59932746        & -0.99710576       \\\\\n",
       "\t9748 & Attrited Customer  & -1.78698923        & M                  & -1.8062885         & Post-Graduate      & Married            & \\$60K - \\$80K    & Blue               & -1.36837459        &  1.4072367         & -0.3375813         & -0.4115957         & -0.45803235        &  1.4333793         & -0.58643979        &  1.122498850       & 1.1509464          &  0.09122586        &  0.21327421        &  0.89631518       \\\\\n",
       "\t9753 & Attrited Customer  &  0.08407825        & M                  &  0.5033433         & Graduate           & Single             & \\$40K - \\$60K    & Blue               & -0.24146114        &  0.1205731         &  0.6519080         &  0.4923795         & -0.46419379        & -1.1421209         & -0.36170426        &  0.178184946       & 1.0199534          &  0.47465212        &  0.23007486        & -0.80486187       \\\\\n",
       "\t9755 & Attrited Customer  &  0.70776741        & M                  & -1.0364112         & Unknown            & Married            & \\$40K - \\$60K    & Blue               &  0.00896407        &  0.1205731         &  0.6519080         &  0.4923795         & -0.01946947        &  1.6616037         & -0.16842951        &  0.223803975       & 1.0950168          &  0.34684337        &  1.32631697        &  0.08381271       \\\\\n",
       "\t9760 & Attrited Customer & -0.29013525       & M                 &  0.5033433        & High School       & Unknown           & \\$120K +         & Blue              &  0.00896407       & -1.1660905        &  0.6519080        & -0.4115957        & -0.09230656       &  1.3585315        & -0.21408063       &  0.844222772      & 1.1350506         & -0.46261208       & -0.89136822       &  0.05842200      \\\\\n",
       "\t9769 & Attrited Customer & -2.16120272       & M                 & -1.8062885        & Graduate          & Single            & \\$120K +         & Blue              & -1.74401241       & -1.1660905        & -0.3375813        &  0.4923795        &  0.33998484       & -1.4267879        &  0.46782616       &  0.082384985      & 1.1474140         &  0.55985796       &  0.79709664       & -0.99710576      \\\\\n",
       "\t9770 & Attrited Customer & -0.66434874       & M                 &  1.2732205        & High School       & Married           & Less than \\$40K  & Blue              & -0.49188635       & -1.1660905        &  0.6519080        &  0.4923795        & -0.09494718       & -1.4267879        &  0.03298545       &  0.835098966      & 1.0906013         &  0.38944629       &  0.20907405       & -0.99710576      \\\\\n",
       "\t9778 & Attrited Customer & -0.41487308       & F                 &  0.5033433        & Doctorate         & Single            & Less than \\$40K  & Blue              & -0.74231156       & -1.8094223        & -0.3375813        & -0.4115957        & -0.26086610       & -0.8586809        & -0.18382988       &  0.588756208      & 1.0973718         & -0.03658289       & -0.47135209       & -0.72868976      \\\\\n",
       "\t9801 & Attrited Customer  & -1.03856224        & M                  & -1.0364112         & Unknown            & Married            & \\$40K - \\$60K    & Blue               & -2.24486283        & -1.8094223         & -1.3270705         & -0.4115957         &  0.11355173        &  1.0063788         &  0.02330521        &  0.515765762       & 1.0570436          & -0.37740624        &  0.39388115        & -0.25352091       \\\\\n",
       "\t9806 & Attrited Customer & -0.41487308       & F                 &  0.5033433        & Uneducated        & Unknown           & Less than \\$40K  & Blue              & -1.49358720       & -1.8094223        & -0.3375813        & -0.4115957        & -0.04136461       &  1.5376754        & -0.17920977       & -0.291691055      & 1.0891295         & -0.03658289       &  0.07466889       &  0.06567649      \\\\\n",
       "\t9812 & Attrited Customer & -1.78698923       & F                 & -1.0364112        & Graduate          & Married           & Less than \\$40K  & Blue              & -1.61879981       & -1.8094223        & -0.3375813        &  0.4923795        & -0.50248277       & -1.1445749        & -0.39976520       &  0.086946887      & 1.0125943         & -0.03658289       &  0.07466889       & -0.79035290      \\\\\n",
       "\t9849 & Attrited Customer  & -2.03646489        & M                  & -1.8062885         & Graduate           & Married            & \\$40K - \\$60K    & Blue               & -1.61879981        &  1.4072367         & -0.3375813         &  1.3963546         & -0.50270283        & -1.4267879         & -0.37468458        &  0.073261179       & 0.9004408          &  0.21903461        & -0.02193482        & -0.99710576       \\\\\n",
       "\t9855 & Attrited Customer  &  0.58302958        & F                  &  1.2732205         & Post-Graduate      & Married            & \\$40K - \\$60K    & Silver             &  0.88545231        & -1.8094223         &  0.6519080         &  0.4923795         & -0.53879129        & -1.4267879         & -0.41076547        &  0.009394538       & 0.7129295          & -0.16439165        &  0.57028793        & -0.99710576       \\\\\n",
       "\t9870 & Attrited Customer  & -0.53961091        & F                  &  1.2732205         & Graduate           & Single             & \\$40K - \\$60K    & Blue               & -0.74231156        &  1.4072367         &  0.6519080         &  0.4923795         &  0.56344726        &  1.6616037         &  0.41436484        & -0.492414783       & 0.9007351          &  0.04862294        & -0.08493724        & -0.33332026       \\\\\n",
       "\t9889 & Attrited Customer  &  0.58302958        & M                  &  0.5033433         & High School        & Married            & \\$80K - \\$120K   & Blue               &  1.38630273        & -1.1660905         &  1.6413972         &  0.4923795         & -0.50512339        & -1.4267879         & -0.37710464        & -0.410300530       & 1.1229816          &  0.81547547        &  0.82649777        & -0.99710576       \\\\\n",
       "\t9907 & Attrited Customer &  1.33145657       & F                 & -1.0364112        & Uneducated        & Single            & Less than \\$40K  & Blue              &  1.26109013       & -1.1660905        &  0.6519080        &  0.4923795        &  0.05468792       & -1.4267879        &  0.18258913       & -0.122900647      & 0.9799196         &  0.68766672       &  0.72149374       & -0.99710576      \\\\\n",
       "\t9944 & Attrited Customer &  0.70776741       & M                 & -0.2665340        & College           & Single            & \\$120K +         & Blue              & -0.49188635       &  0.1205731        &  0.6519080        & -1.3155708        & -0.40676032       & -1.4267879        & -0.27876222       & -0.214138705      & 1.0249577         & -0.03658289       &  0.71309342       & -0.99710576      \\\\\n",
       "\t9955 & Attrited Customer  & -0.91382440        & M                  &  1.2732205         & Graduate           & Married            & \\$80K - \\$120K   & Blue               & -0.61709896        & -1.8094223         &  0.6519080         &  0.4923795         & -0.51744628        & -0.7617469         & -0.44904641        &  0.232927781       & 0.9916943          & -0.03658289        &  0.07466889        & -0.49654620       \\\\\n",
       "\t9973 & Attrited Customer  &  0.70776741        & M                  &  0.5033433         & Unknown            & Single             & \\$80K - \\$120K   & Blue               &  1.01066492        & -1.8094223         & -0.3375813         &  1.3963546         & -0.56178668        &  1.5536265         & -0.70095261        & -0.218700608       & 0.9922830          & -0.07918581        &  0.82649777        &  1.50206479       \\\\\n",
       "\t9989 & Attrited Customer  & -0.04065958        & F                  &  0.5033433         & Unknown            & Married            & \\$40K - \\$60K    & Blue               &  0.13417668        & -1.1660905         &  0.6519080         &  1.3963546         & -0.33997465        & -1.4267879         & -0.21199058        &  0.219242072       & 1.1309295          & -0.24959749        & -0.30754579        & -0.99710576       \\\\\n",
       "\t10002 & Attrited Customer  & -1.66225139        & M                  &  1.2732205         & College            & Single             & \\$40K - \\$60K    & Silver             & -1.99443762        & -1.1660905         & -1.3270705         &  0.4923795         &  0.80814466        & -1.4267879         &  0.93588768        & -0.264319637       & 0.9834520          & -0.03658289        & -0.11853853        & -0.99710576       \\\\\n",
       "\t10023 & Attrited Customer  & -0.04065958        & M                  &  0.5033433         & Graduate           & Married            & \\$60K - \\$80K    & Blue               & -0.24146114        & -1.8094223         & -0.3375813         &  1.3963546         & -0.40731045        & -1.2316928         & -0.29680267        & -0.766128958       & 0.8854281          & -0.20699457        & -0.55955547        & -0.88103398       \\\\\n",
       "\t10049 & Attrited Customer  &  0.20881608        & M                  &  1.2732205         & College            & Married            & \\$80K - \\$120K   & Blue               &  1.01066492        & -1.1660905         &  0.6519080         &  0.4923795         &  0.09814812        &  0.3511538         &  0.06664628        & -0.916671754       & 0.9192802          & -0.29220040        & -0.23194289        & -0.44576480       \\\\\n",
       "\t10068 & Attrited Customer  &  0.33355391        & F                  &  1.2732205         & Uneducated         & Married            & \\$40K - \\$60K    & Blue               &  0.00896407        &  0.7639049         & -0.3375813         &  0.4923795         & -0.49126014        & -1.4267879         & -0.36324430        & -0.816309890       & 0.9378253          &  0.94328422        &  0.26787631        & -0.99710576       \\\\\n",
       "\t10090 & Attrited Customer &  0.70776741       & F                 &  2.0430978        & Unknown           & Married           & Less than \\$40K  & Blue              &  0.00896407       &  0.1205731        &  0.6519080        &  0.4923795        &  0.10772036       & -1.4267879        &  0.23561044       &  0.365222965      & 0.9513661         & -0.03658289       &  0.49048486       & -0.99710576      \\\\\n",
       "\t10126 & Attrited Customer  & -2.03646489        & M                  & -0.2665340         & Graduate           & Unknown            & \\$40K - \\$60K    & Blue               &  0.00896407        &  0.1205731         &  0.6519080         &  0.4923795         & -0.36869139        & -1.4267879         & -0.24070128        & -1.026157424       & 1.1747901          & -0.12178873        &  0.04106760        & -0.99710576       \\\\\n",
       "\\end{tabular}\n"
      ],
      "text/markdown": [
       "\n",
       "| <!--/--> | Attrition_Flag | Customer_Age | Gender | Dependent_count | Education_Level | Marital_Status | Income_Category | Card_Category | Months_on_book | Total_Relationship_Count | Months_Inactive_12_mon | Contacts_Count_12_mon | Credit_Limit | Total_Revolving_Bal | Avg_Open_To_Buy | Total_Amt_Chng_Q4_Q1 | Total_Trans_Amt | Total_Trans_Ct | Total_Ct_Chng_Q4_Q1 | Avg_Utilization_Ratio |\n",
       "|---|---|---|---|---|---|---|---|---|---|---|---|---|---|---|---|---|---|---|---|---|\n",
       "| 11 | Existing Customer | -0.53961091       | M                 |  2.0430978        | Uneducated        | Unknown           | $120K +           | Blue              | -0.61709896       |  0.7639049        |  0.6519080        | -0.4115957        | -0.2072835        |  0.373240080      | -0.24070128       |  0.324165839      | -0.9428803        | -0.9738471        | -0.135339178      | -0.209993991      |\n",
       "| 15 | Existing Customer |  1.33145657       | F                 | -0.2665340        | Graduate          | Married           | Less than $40K    | Blue              |  1.51151534       |  0.7639049        | -0.3375813        | -0.4115957        | -0.6817148        | -0.592419097      | -0.62846083       |  1.961888986      | -0.8342592        | -1.5276850        | -0.425150311      |  0.014895086      |\n",
       "| 20 | Existing Customer | -0.16539741       | F                 | -0.2665340        | Graduate          | Married           | Unknown           | Blue              |  0.13417668       |  1.4072367        | -1.3270705        | -0.4115957        |  0.6423358        | -0.007133929      |  0.64284046       |  0.940022733      | -0.9411141        | -1.8685084        |  0.826497773      | -0.706926306      |\n",
       "| 22 | Attrited Customer |  1.95514573       | F                 | -1.8062885        | Graduate          | Married           | Less than $40K    | Blue              |  1.63672795       | -1.1660905        |  0.6519080        |  0.4923795        | -0.7914876        | -1.426787891      | -0.66340869       |  1.309536869      | -1.0927127        | -2.0815230        | -0.471352086      | -0.997105760      |\n",
       "| 24 | Existing Customer |  0.08407825       | F                 |  1.2732205        | Unknown           | Single            | Less than $40K    | Blue              |  0.00896407       | -0.5227587        |  0.6519080        | -0.4115957        | -0.6755534        |  0.487352283      | -0.71910306       | -0.852805113      | -0.9649578        | -1.7833025        | -1.508791941      |  1.273548467      |\n",
       "| 25 | Existing Customer |  0.95724307       | M                 | -0.2665340        | Unknown           | Married           | $80K - $120K      | Blue              |  0.76023971       |  0.1205731        | -0.3375813        |  0.4923795        |  0.3944476        | -1.426787891      |  0.52227750       |  1.437270151      | -0.9696676        | -1.8685084        |  0.158672117      | -0.997105760      |\n",
       "| 26 | Existing Customer | -0.66434874       | F                 |  0.5033433        | Graduate          | Single            | Less than $40K    | Blue              | -0.99273678       |  1.4072367        | -1.3270705        | -0.4115957        | -0.0950572        |  0.621096693      | -0.15071907       |  0.169061140      | -0.9870352        | -1.8259055        |  0.507285510      | -0.217248477      |\n",
       "| 35 | Existing Customer |  1.45619440       | M                 | -1.8062885        | Graduate          | Married           | $80K - $120K      | Blue              |  1.63672795       |  1.4072367        | -0.3375813        | -0.4115957        |  0.4316363        |  0.654226042      |  0.37289382       | -1.099147871      | -0.9163874        | -1.7406996        |  0.007466308      | -0.507427931      |\n",
       "| 36 | Existing Customer |  1.08198090       | F                 | -1.0364112        | College           | Single            | Less than $40K    | Blue              |  0.00896407       |  0.1205731        | -0.3375813        | -1.3155708        | -0.5624468        |  0.921714861      | -0.64496124       | -1.140204997      | -0.8822409        | -0.9312442        | -0.962770965      |  0.976114527      |\n",
       "| 45 | Existing Customer | -1.03856224       | F                 |  1.2732205        | Graduate          | Single            | Unknown           | Blue              | -0.99273678       | -1.1660905        |  0.6519080        |  0.4923795        |  0.1318160        |  1.094723685      |  0.03364547       |  0.990203665      | -0.9896845        | -1.7833025        |  0.860099063      | -0.239011936      |\n",
       "| 50 | Existing Customer |  0.70776741       | M                 | -1.0364112        | College           | Single            | $80K - $120K      | Blue              |  0.50981449       |  0.7639049        | -1.3270705        | -1.3155708        | -0.4276652        |  0.078756977      | -0.43463606       | -0.620148065      | -0.9608367        | -1.0590529        | -0.471352086      | -0.057649778      |\n",
       "| 52 | Attrited Customer |  0.95724307       | F                 | -1.0364112        | Graduate          | Married           | Less than $40K    | Blue              |  0.50981449       | -1.1660905        |  0.6519080        | -1.3155708        | -0.7914876        | -0.435361442      | -0.75229088       |  1.081441723      | -1.0888859        | -1.9537142        |  0.788696320      |  1.041404904      |\n",
       "| 55 | Attrited Customer |  1.20671874       | M                 | -0.2665340        | Graduate          | Married           | $120K +           | Blue              |  0.00896407       | -1.8094223        |  0.6519080        |  0.4923795        |  0.7852593        | -1.426787891      |  0.91300711       |  1.282165452      | -1.1192057        | -2.1241259        | -1.462590166      | -0.997105760      |\n",
       "| 56 | Existing Customer |  0.33355391       | F                 |  1.2732205        | Graduate          | Unknown           | Less than $40K    | Blue              |  0.00896407       |  1.4072367        |  1.6413972        | -0.4115957        | -0.5868726        |  1.272640560      | -0.70084261       | -0.373805307      | -0.9867409        | -1.3998763        | -0.471352086      |  1.422265437      |\n",
       "| 61 | Existing Customer |  1.08198090       | M                 |  0.5033433        | Unknown           | Married           | $80K - $120K      | Blue              |  1.38630273       |  0.1205731        | -0.3375813        |  0.4923795        | -0.5716890        |  1.046870180      | -0.66542174       |  0.643499043      | -0.9734944        | -1.3572734        |  0.507285510      |  1.132085983      |\n",
       "| 63 | Existing Customer | -0.91382440       | M                 | -1.0364112        | High School       | Divorced          | $60K - $80K       | Blue              | -0.36667375       |  0.7639049        |  0.6519080        |  0.4923795        | -0.2977247        |  0.108205287      | -0.30736293       |  0.839660869      | -0.9090282        | -1.5702880        |  1.855537305      | -0.231757450      |\n",
       "| 65 | Existing Customer |  0.83250524       | M                 | -0.2665340        | High School       | Single            | $120K +           | Blue              |  1.01066492       |  0.1205731        | -0.3375813        | -0.4115957        |  0.6713826        |  0.578151240      |  0.61940989       |  1.044946500      | -0.9169761        | -1.7833025        |  0.860099063      | -0.594481767      |\n",
       "| 67 | Existing Customer |  1.33145657       | M                 | -0.2665340        | College           | Married           | $60K - $80K       | Blue              |  2.01236576       |  0.7639049        |  0.6519080        |  0.4923795        | -0.2253278        |  0.802694607      | -0.29724268       | -0.638395676      | -0.8981367        | -1.2720675        | -0.189941275      |  0.004013356      |\n",
       "| 68 | Existing Customer | -0.29013525       | F                 | -0.2665340        | Uneducated        | Single            | Less than $40K    | Blue              | -1.99443762       |  1.4072367        |  0.6519080        |  0.4923795        | -0.7204439        |  0.374467093      | -0.75386392       |  1.113375044      | -0.9631916        | -1.5702880        | -0.656159186      |  1.556473435      |\n",
       "| 72 | Existing Customer |  1.08198090       | F                 | -0.2665340        | Graduate          | Married           | Less than $40K    | Blue              |  0.76023971       |  0.7639049        |  0.6519080        |  0.4923795        | -0.7059205        | -0.158056519      | -0.69160238       | -0.008853074      | -0.8430902        | -1.2294646        | -1.790202752      |  0.696816803      |\n",
       "| 73 | Existing Customer |  0.95724307       | M                 | -1.0364112        | Graduate          | Unknown           | $60K - $80K       | Blue              |  0.88545231       |  0.1205731        | -0.3375813        |  0.4923795        | -0.6295626        |  1.064048361      | -0.72482320       |  0.041327858      | -0.9266902        | -1.8685084        | -1.311384357      |  1.534709976      |\n",
       "| 76 | Existing Customer |  0.83250524       | M                 | -0.2665340        | Graduate          | Single            | $80K - $120K      | Blue              |  0.00896407       |  0.7639049        |  0.6519080        | -0.4115957        | -0.3696816        |  0.432136701      | -0.40834541       |  0.442775315      | -0.9169761        | -1.3572734        | -1.164378710      |  0.043913031      |\n",
       "| 78 | Existing Customer | -1.16330007       | F                 |  0.5033433        | Uneducated        | Single            | Less than $40K    | Blue              | -0.86752417       |  0.1205731        |  1.6413972        | -0.4115957        | -0.1753760        |  0.783062400      | -0.24554140       | -0.040786394      | -0.6078916        | -0.3348033        |  1.065906970      | -0.068531507      |\n",
       "| 79 | Existing Customer |  0.33355391       | M                 |  0.5033433        | Graduate          | Divorced          | $60K - $80K       | Blue              | -0.74231156       |  1.4072367        | -1.3270705        | -0.4115957        | -0.6707122        |  0.810056684      | -0.74319365       | -0.259757734      | -0.8642845        | -1.7833025        | -1.508791941      |  1.610882082      |\n",
       "| 83 | Attrited Customer |  1.08198090       | F                 |  1.2732205        | Unknown           | Married           | $40K - $60K       | Blue              |  1.13587752       | -1.1660905        |  1.6413972        |  0.4923795        | -0.7123020        | -1.426787891      | -0.58423974       | -0.798062278      | -1.1153789        | -2.2519346        |  0.007466308      | -0.997105760      |\n",
       "| 84 | Existing Customer |  1.58093223       | F                 | -1.0364112        | Graduate          | Married           | Unknown           | Blue              |  2.01236576       | -1.1660905        |  0.6519080        |  0.4923795        |  0.1651538        |  0.311889434      |  0.13715802       | -1.719566668      | -0.9820310        | -1.9111113        |  0.444283089      | -0.489291715      |\n",
       "| 88 | Existing Customer | -0.41487308       | F                 |  0.5033433        | Uneducated        | Single            | Less than $40K    | Blue              | -0.11624854       |  0.7639049        | -0.3375813        |  0.4923795        | -0.5067738        | -1.426787891      | -0.37875468       | -1.263376376      | -0.9322831        | -1.3998763        | -0.471352086      | -0.997105760      |\n",
       "| 93 | Existing Customer | -0.16539741       | M                 | -1.0364112        | Graduate          | Single            | $40K - $60K       | Blue              |  0.00896407       |  0.1205731        |  1.6413972        |  0.4923795        | -0.2262080        | -1.426787891      | -0.09824778       | -0.825433696      | -0.8651676        | -1.3146704        | -0.391549020      | -0.997105760      |\n",
       "| 94 | Existing Customer |  0.83250524       | M                 | -1.8062885        | Graduate          | Single            | $80K - $120K      | Blue              |  0.76023971       |  0.7639049        |  1.6413972        | -1.3155708        | -0.6566289        |  1.072637452      | -0.75265389       |  0.410841995      | -0.9178592        | -1.5276850        |  0.927301645      |  1.777735268      |\n",
       "| 97 | Existing Customer | -0.16539741       | M                 |  0.5033433        | Graduate          | Married           | $40K - $60K       | Blue              | -0.11624854       |  0.7639049        |  1.6413972        | -0.4115957        | -0.5697085        |  0.045627628      | -0.57367948       | -0.743319443      | -0.9099113        | -1.4850821        | -1.714599847      |  0.261547622      |\n",
       "| ... | ... | ... | ... | ... | ... | ... | ... | ... | ... | ... | ... | ... | ... | ... | ... | ... | ... | ... | ... | ... |\n",
       "| 9689 | Attrited Customer | -0.41487308       | M                 |  2.0430978        | Graduate          | Married           | $60K - $80K       | Blue              | -1.36837459       | -1.8094223        | -0.3375813        |  0.4923795        | -0.48113777       | -1.4267879        | -0.35312405       |  0.794041840      | 1.0564549         |  0.26163753       | -0.25714386       | -0.99710576       |\n",
       "| 9694 | Attrited Customer | -1.78698923       | M                 | -1.8062885        | College           | Single            | $60K - $80K       | Blue              | -1.49358720       | -0.5227587        | -0.3375813        |  0.4923795        | -0.49896195       | -1.4267879        | -0.37094449       |  0.346975354      | 1.1691971         | -0.03658289       | -0.11853853       | -0.99710576       |\n",
       "| 9695 | Attrited Customer | -0.66434874       | F                 |  0.5033433        | High School       | Married           | Less than $40K    | Blue              | -0.61709896       | -0.5227587        |  0.6519080        |  0.4923795        | -0.51491569       | -1.4267879        | -0.38689488       |  1.104251238      | 1.1294577         |  0.73026963       |  1.00710471       | -0.99710576       |\n",
       "| 9701 | Attrited Customer |  0.08407825       | M                 | -0.2665340        | Graduate          | Married           | $80K - $120K      | Blue              |  0.00896407       | -0.5227587        |  0.6519080        | -0.4115957        |  0.47322610       |  1.3204941        |  0.35474337       | -1.436728687      | 0.6358056         | -0.37740624       | -0.83256596       | -0.36959269       |\n",
       "| 9718 | Attrited Customer | -0.41487308       | M                 |  0.5033433        | Uneducated        | Single            | $40K - $60K       | Blue              |  0.00896407       | -0.5227587        |  0.6519080        |  0.4923795        |  0.06987148       | -1.4267879        |  0.19776951       |  0.483832441      | 1.0558661         |  1.07109298       |  1.59932746       | -0.99710576       |\n",
       "| 9748 | Attrited Customer | -1.78698923       | M                 | -1.8062885        | Post-Graduate     | Married           | $60K - $80K       | Blue              | -1.36837459       |  1.4072367        | -0.3375813        | -0.4115957        | -0.45803235       |  1.4333793        | -0.58643979       |  1.122498850      | 1.1509464         |  0.09122586       |  0.21327421       |  0.89631518       |\n",
       "| 9753 | Attrited Customer |  0.08407825       | M                 |  0.5033433        | Graduate          | Single            | $40K - $60K       | Blue              | -0.24146114       |  0.1205731        |  0.6519080        |  0.4923795        | -0.46419379       | -1.1421209        | -0.36170426       |  0.178184946      | 1.0199534         |  0.47465212       |  0.23007486       | -0.80486187       |\n",
       "| 9755 | Attrited Customer |  0.70776741       | M                 | -1.0364112        | Unknown           | Married           | $40K - $60K       | Blue              |  0.00896407       |  0.1205731        |  0.6519080        |  0.4923795        | -0.01946947       |  1.6616037        | -0.16842951       |  0.223803975      | 1.0950168         |  0.34684337       |  1.32631697       |  0.08381271       |\n",
       "| 9760 | Attrited Customer | -0.29013525       | M                 |  0.5033433        | High School       | Unknown           | $120K +           | Blue              |  0.00896407       | -1.1660905        |  0.6519080        | -0.4115957        | -0.09230656       |  1.3585315        | -0.21408063       |  0.844222772      | 1.1350506         | -0.46261208       | -0.89136822       |  0.05842200       |\n",
       "| 9769 | Attrited Customer | -2.16120272       | M                 | -1.8062885        | Graduate          | Single            | $120K +           | Blue              | -1.74401241       | -1.1660905        | -0.3375813        |  0.4923795        |  0.33998484       | -1.4267879        |  0.46782616       |  0.082384985      | 1.1474140         |  0.55985796       |  0.79709664       | -0.99710576       |\n",
       "| 9770 | Attrited Customer | -0.66434874       | M                 |  1.2732205        | High School       | Married           | Less than $40K    | Blue              | -0.49188635       | -1.1660905        |  0.6519080        |  0.4923795        | -0.09494718       | -1.4267879        |  0.03298545       |  0.835098966      | 1.0906013         |  0.38944629       |  0.20907405       | -0.99710576       |\n",
       "| 9778 | Attrited Customer | -0.41487308       | F                 |  0.5033433        | Doctorate         | Single            | Less than $40K    | Blue              | -0.74231156       | -1.8094223        | -0.3375813        | -0.4115957        | -0.26086610       | -0.8586809        | -0.18382988       |  0.588756208      | 1.0973718         | -0.03658289       | -0.47135209       | -0.72868976       |\n",
       "| 9801 | Attrited Customer | -1.03856224       | M                 | -1.0364112        | Unknown           | Married           | $40K - $60K       | Blue              | -2.24486283       | -1.8094223        | -1.3270705        | -0.4115957        |  0.11355173       |  1.0063788        |  0.02330521       |  0.515765762      | 1.0570436         | -0.37740624       |  0.39388115       | -0.25352091       |\n",
       "| 9806 | Attrited Customer | -0.41487308       | F                 |  0.5033433        | Uneducated        | Unknown           | Less than $40K    | Blue              | -1.49358720       | -1.8094223        | -0.3375813        | -0.4115957        | -0.04136461       |  1.5376754        | -0.17920977       | -0.291691055      | 1.0891295         | -0.03658289       |  0.07466889       |  0.06567649       |\n",
       "| 9812 | Attrited Customer | -1.78698923       | F                 | -1.0364112        | Graduate          | Married           | Less than $40K    | Blue              | -1.61879981       | -1.8094223        | -0.3375813        |  0.4923795        | -0.50248277       | -1.1445749        | -0.39976520       |  0.086946887      | 1.0125943         | -0.03658289       |  0.07466889       | -0.79035290       |\n",
       "| 9849 | Attrited Customer | -2.03646489       | M                 | -1.8062885        | Graduate          | Married           | $40K - $60K       | Blue              | -1.61879981       |  1.4072367        | -0.3375813        |  1.3963546        | -0.50270283       | -1.4267879        | -0.37468458       |  0.073261179      | 0.9004408         |  0.21903461       | -0.02193482       | -0.99710576       |\n",
       "| 9855 | Attrited Customer |  0.58302958       | F                 |  1.2732205        | Post-Graduate     | Married           | $40K - $60K       | Silver            |  0.88545231       | -1.8094223        |  0.6519080        |  0.4923795        | -0.53879129       | -1.4267879        | -0.41076547       |  0.009394538      | 0.7129295         | -0.16439165       |  0.57028793       | -0.99710576       |\n",
       "| 9870 | Attrited Customer | -0.53961091       | F                 |  1.2732205        | Graduate          | Single            | $40K - $60K       | Blue              | -0.74231156       |  1.4072367        |  0.6519080        |  0.4923795        |  0.56344726       |  1.6616037        |  0.41436484       | -0.492414783      | 0.9007351         |  0.04862294       | -0.08493724       | -0.33332026       |\n",
       "| 9889 | Attrited Customer |  0.58302958       | M                 |  0.5033433        | High School       | Married           | $80K - $120K      | Blue              |  1.38630273       | -1.1660905        |  1.6413972        |  0.4923795        | -0.50512339       | -1.4267879        | -0.37710464       | -0.410300530      | 1.1229816         |  0.81547547       |  0.82649777       | -0.99710576       |\n",
       "| 9907 | Attrited Customer |  1.33145657       | F                 | -1.0364112        | Uneducated        | Single            | Less than $40K    | Blue              |  1.26109013       | -1.1660905        |  0.6519080        |  0.4923795        |  0.05468792       | -1.4267879        |  0.18258913       | -0.122900647      | 0.9799196         |  0.68766672       |  0.72149374       | -0.99710576       |\n",
       "| 9944 | Attrited Customer |  0.70776741       | M                 | -0.2665340        | College           | Single            | $120K +           | Blue              | -0.49188635       |  0.1205731        |  0.6519080        | -1.3155708        | -0.40676032       | -1.4267879        | -0.27876222       | -0.214138705      | 1.0249577         | -0.03658289       |  0.71309342       | -0.99710576       |\n",
       "| 9955 | Attrited Customer | -0.91382440       | M                 |  1.2732205        | Graduate          | Married           | $80K - $120K      | Blue              | -0.61709896       | -1.8094223        |  0.6519080        |  0.4923795        | -0.51744628       | -0.7617469        | -0.44904641       |  0.232927781      | 0.9916943         | -0.03658289       |  0.07466889       | -0.49654620       |\n",
       "| 9973 | Attrited Customer |  0.70776741       | M                 |  0.5033433        | Unknown           | Single            | $80K - $120K      | Blue              |  1.01066492       | -1.8094223        | -0.3375813        |  1.3963546        | -0.56178668       |  1.5536265        | -0.70095261       | -0.218700608      | 0.9922830         | -0.07918581       |  0.82649777       |  1.50206479       |\n",
       "| 9989 | Attrited Customer | -0.04065958       | F                 |  0.5033433        | Unknown           | Married           | $40K - $60K       | Blue              |  0.13417668       | -1.1660905        |  0.6519080        |  1.3963546        | -0.33997465       | -1.4267879        | -0.21199058       |  0.219242072      | 1.1309295         | -0.24959749       | -0.30754579       | -0.99710576       |\n",
       "| 10002 | Attrited Customer | -1.66225139       | M                 |  1.2732205        | College           | Single            | $40K - $60K       | Silver            | -1.99443762       | -1.1660905        | -1.3270705        |  0.4923795        |  0.80814466       | -1.4267879        |  0.93588768       | -0.264319637      | 0.9834520         | -0.03658289       | -0.11853853       | -0.99710576       |\n",
       "| 10023 | Attrited Customer | -0.04065958       | M                 |  0.5033433        | Graduate          | Married           | $60K - $80K       | Blue              | -0.24146114       | -1.8094223        | -0.3375813        |  1.3963546        | -0.40731045       | -1.2316928        | -0.29680267       | -0.766128958      | 0.8854281         | -0.20699457       | -0.55955547       | -0.88103398       |\n",
       "| 10049 | Attrited Customer |  0.20881608       | M                 |  1.2732205        | College           | Married           | $80K - $120K      | Blue              |  1.01066492       | -1.1660905        |  0.6519080        |  0.4923795        |  0.09814812       |  0.3511538        |  0.06664628       | -0.916671754      | 0.9192802         | -0.29220040       | -0.23194289       | -0.44576480       |\n",
       "| 10068 | Attrited Customer |  0.33355391       | F                 |  1.2732205        | Uneducated        | Married           | $40K - $60K       | Blue              |  0.00896407       |  0.7639049        | -0.3375813        |  0.4923795        | -0.49126014       | -1.4267879        | -0.36324430       | -0.816309890      | 0.9378253         |  0.94328422       |  0.26787631       | -0.99710576       |\n",
       "| 10090 | Attrited Customer |  0.70776741       | F                 |  2.0430978        | Unknown           | Married           | Less than $40K    | Blue              |  0.00896407       |  0.1205731        |  0.6519080        |  0.4923795        |  0.10772036       | -1.4267879        |  0.23561044       |  0.365222965      | 0.9513661         | -0.03658289       |  0.49048486       | -0.99710576       |\n",
       "| 10126 | Attrited Customer | -2.03646489       | M                 | -0.2665340        | Graduate          | Unknown           | $40K - $60K       | Blue              |  0.00896407       |  0.1205731        |  0.6519080        |  0.4923795        | -0.36869139       | -1.4267879        | -0.24070128       | -1.026157424      | 1.1747901         | -0.12178873       |  0.04106760       | -0.99710576       |\n",
       "\n"
      ],
      "text/plain": [
       "      Attrition_Flag    Customer_Age Gender Dependent_count Education_Level\n",
       "11    Existing Customer -0.53961091  M       2.0430978      Uneducated     \n",
       "15    Existing Customer  1.33145657  F      -0.2665340      Graduate       \n",
       "20    Existing Customer -0.16539741  F      -0.2665340      Graduate       \n",
       "22    Attrited Customer  1.95514573  F      -1.8062885      Graduate       \n",
       "24    Existing Customer  0.08407825  F       1.2732205      Unknown        \n",
       "25    Existing Customer  0.95724307  M      -0.2665340      Unknown        \n",
       "26    Existing Customer -0.66434874  F       0.5033433      Graduate       \n",
       "35    Existing Customer  1.45619440  M      -1.8062885      Graduate       \n",
       "36    Existing Customer  1.08198090  F      -1.0364112      College        \n",
       "45    Existing Customer -1.03856224  F       1.2732205      Graduate       \n",
       "50    Existing Customer  0.70776741  M      -1.0364112      College        \n",
       "52    Attrited Customer  0.95724307  F      -1.0364112      Graduate       \n",
       "55    Attrited Customer  1.20671874  M      -0.2665340      Graduate       \n",
       "56    Existing Customer  0.33355391  F       1.2732205      Graduate       \n",
       "61    Existing Customer  1.08198090  M       0.5033433      Unknown        \n",
       "63    Existing Customer -0.91382440  M      -1.0364112      High School    \n",
       "65    Existing Customer  0.83250524  M      -0.2665340      High School    \n",
       "67    Existing Customer  1.33145657  M      -0.2665340      College        \n",
       "68    Existing Customer -0.29013525  F      -0.2665340      Uneducated     \n",
       "72    Existing Customer  1.08198090  F      -0.2665340      Graduate       \n",
       "73    Existing Customer  0.95724307  M      -1.0364112      Graduate       \n",
       "76    Existing Customer  0.83250524  M      -0.2665340      Graduate       \n",
       "78    Existing Customer -1.16330007  F       0.5033433      Uneducated     \n",
       "79    Existing Customer  0.33355391  M       0.5033433      Graduate       \n",
       "83    Attrited Customer  1.08198090  F       1.2732205      Unknown        \n",
       "84    Existing Customer  1.58093223  F      -1.0364112      Graduate       \n",
       "88    Existing Customer -0.41487308  F       0.5033433      Uneducated     \n",
       "93    Existing Customer -0.16539741  M      -1.0364112      Graduate       \n",
       "94    Existing Customer  0.83250524  M      -1.8062885      Graduate       \n",
       "97    Existing Customer -0.16539741  M       0.5033433      Graduate       \n",
       "...   ...               ...          ...    ...             ...            \n",
       "9689  Attrited Customer -0.41487308  M       2.0430978      Graduate       \n",
       "9694  Attrited Customer -1.78698923  M      -1.8062885      College        \n",
       "9695  Attrited Customer -0.66434874  F       0.5033433      High School    \n",
       "9701  Attrited Customer  0.08407825  M      -0.2665340      Graduate       \n",
       "9718  Attrited Customer -0.41487308  M       0.5033433      Uneducated     \n",
       "9748  Attrited Customer -1.78698923  M      -1.8062885      Post-Graduate  \n",
       "9753  Attrited Customer  0.08407825  M       0.5033433      Graduate       \n",
       "9755  Attrited Customer  0.70776741  M      -1.0364112      Unknown        \n",
       "9760  Attrited Customer -0.29013525  M       0.5033433      High School    \n",
       "9769  Attrited Customer -2.16120272  M      -1.8062885      Graduate       \n",
       "9770  Attrited Customer -0.66434874  M       1.2732205      High School    \n",
       "9778  Attrited Customer -0.41487308  F       0.5033433      Doctorate      \n",
       "9801  Attrited Customer -1.03856224  M      -1.0364112      Unknown        \n",
       "9806  Attrited Customer -0.41487308  F       0.5033433      Uneducated     \n",
       "9812  Attrited Customer -1.78698923  F      -1.0364112      Graduate       \n",
       "9849  Attrited Customer -2.03646489  M      -1.8062885      Graduate       \n",
       "9855  Attrited Customer  0.58302958  F       1.2732205      Post-Graduate  \n",
       "9870  Attrited Customer -0.53961091  F       1.2732205      Graduate       \n",
       "9889  Attrited Customer  0.58302958  M       0.5033433      High School    \n",
       "9907  Attrited Customer  1.33145657  F      -1.0364112      Uneducated     \n",
       "9944  Attrited Customer  0.70776741  M      -0.2665340      College        \n",
       "9955  Attrited Customer -0.91382440  M       1.2732205      Graduate       \n",
       "9973  Attrited Customer  0.70776741  M       0.5033433      Unknown        \n",
       "9989  Attrited Customer -0.04065958  F       0.5033433      Unknown        \n",
       "10002 Attrited Customer -1.66225139  M       1.2732205      College        \n",
       "10023 Attrited Customer -0.04065958  M       0.5033433      Graduate       \n",
       "10049 Attrited Customer  0.20881608  M       1.2732205      College        \n",
       "10068 Attrited Customer  0.33355391  F       1.2732205      Uneducated     \n",
       "10090 Attrited Customer  0.70776741  F       2.0430978      Unknown        \n",
       "10126 Attrited Customer -2.03646489  M      -0.2665340      Graduate       \n",
       "      Marital_Status Income_Category Card_Category Months_on_book\n",
       "11    Unknown        $120K +         Blue          -0.61709896   \n",
       "15    Married        Less than $40K  Blue           1.51151534   \n",
       "20    Married        Unknown         Blue           0.13417668   \n",
       "22    Married        Less than $40K  Blue           1.63672795   \n",
       "24    Single         Less than $40K  Blue           0.00896407   \n",
       "25    Married        $80K - $120K    Blue           0.76023971   \n",
       "26    Single         Less than $40K  Blue          -0.99273678   \n",
       "35    Married        $80K - $120K    Blue           1.63672795   \n",
       "36    Single         Less than $40K  Blue           0.00896407   \n",
       "45    Single         Unknown         Blue          -0.99273678   \n",
       "50    Single         $80K - $120K    Blue           0.50981449   \n",
       "52    Married        Less than $40K  Blue           0.50981449   \n",
       "55    Married        $120K +         Blue           0.00896407   \n",
       "56    Unknown        Less than $40K  Blue           0.00896407   \n",
       "61    Married        $80K - $120K    Blue           1.38630273   \n",
       "63    Divorced       $60K - $80K     Blue          -0.36667375   \n",
       "65    Single         $120K +         Blue           1.01066492   \n",
       "67    Married        $60K - $80K     Blue           2.01236576   \n",
       "68    Single         Less than $40K  Blue          -1.99443762   \n",
       "72    Married        Less than $40K  Blue           0.76023971   \n",
       "73    Unknown        $60K - $80K     Blue           0.88545231   \n",
       "76    Single         $80K - $120K    Blue           0.00896407   \n",
       "78    Single         Less than $40K  Blue          -0.86752417   \n",
       "79    Divorced       $60K - $80K     Blue          -0.74231156   \n",
       "83    Married        $40K - $60K     Blue           1.13587752   \n",
       "84    Married        Unknown         Blue           2.01236576   \n",
       "88    Single         Less than $40K  Blue          -0.11624854   \n",
       "93    Single         $40K - $60K     Blue           0.00896407   \n",
       "94    Single         $80K - $120K    Blue           0.76023971   \n",
       "97    Married        $40K - $60K     Blue          -0.11624854   \n",
       "...   ...            ...             ...           ...           \n",
       "9689  Married        $60K - $80K     Blue          -1.36837459   \n",
       "9694  Single         $60K - $80K     Blue          -1.49358720   \n",
       "9695  Married        Less than $40K  Blue          -0.61709896   \n",
       "9701  Married        $80K - $120K    Blue           0.00896407   \n",
       "9718  Single         $40K - $60K     Blue           0.00896407   \n",
       "9748  Married        $60K - $80K     Blue          -1.36837459   \n",
       "9753  Single         $40K - $60K     Blue          -0.24146114   \n",
       "9755  Married        $40K - $60K     Blue           0.00896407   \n",
       "9760  Unknown        $120K +         Blue           0.00896407   \n",
       "9769  Single         $120K +         Blue          -1.74401241   \n",
       "9770  Married        Less than $40K  Blue          -0.49188635   \n",
       "9778  Single         Less than $40K  Blue          -0.74231156   \n",
       "9801  Married        $40K - $60K     Blue          -2.24486283   \n",
       "9806  Unknown        Less than $40K  Blue          -1.49358720   \n",
       "9812  Married        Less than $40K  Blue          -1.61879981   \n",
       "9849  Married        $40K - $60K     Blue          -1.61879981   \n",
       "9855  Married        $40K - $60K     Silver         0.88545231   \n",
       "9870  Single         $40K - $60K     Blue          -0.74231156   \n",
       "9889  Married        $80K - $120K    Blue           1.38630273   \n",
       "9907  Single         Less than $40K  Blue           1.26109013   \n",
       "9944  Single         $120K +         Blue          -0.49188635   \n",
       "9955  Married        $80K - $120K    Blue          -0.61709896   \n",
       "9973  Single         $80K - $120K    Blue           1.01066492   \n",
       "9989  Married        $40K - $60K     Blue           0.13417668   \n",
       "10002 Single         $40K - $60K     Silver        -1.99443762   \n",
       "10023 Married        $60K - $80K     Blue          -0.24146114   \n",
       "10049 Married        $80K - $120K    Blue           1.01066492   \n",
       "10068 Married        $40K - $60K     Blue           0.00896407   \n",
       "10090 Married        Less than $40K  Blue           0.00896407   \n",
       "10126 Unknown        $40K - $60K     Blue           0.00896407   \n",
       "      Total_Relationship_Count Months_Inactive_12_mon Contacts_Count_12_mon\n",
       "11     0.7639049                0.6519080             -0.4115957           \n",
       "15     0.7639049               -0.3375813             -0.4115957           \n",
       "20     1.4072367               -1.3270705             -0.4115957           \n",
       "22    -1.1660905                0.6519080              0.4923795           \n",
       "24    -0.5227587                0.6519080             -0.4115957           \n",
       "25     0.1205731               -0.3375813              0.4923795           \n",
       "26     1.4072367               -1.3270705             -0.4115957           \n",
       "35     1.4072367               -0.3375813             -0.4115957           \n",
       "36     0.1205731               -0.3375813             -1.3155708           \n",
       "45    -1.1660905                0.6519080              0.4923795           \n",
       "50     0.7639049               -1.3270705             -1.3155708           \n",
       "52    -1.1660905                0.6519080             -1.3155708           \n",
       "55    -1.8094223                0.6519080              0.4923795           \n",
       "56     1.4072367                1.6413972             -0.4115957           \n",
       "61     0.1205731               -0.3375813              0.4923795           \n",
       "63     0.7639049                0.6519080              0.4923795           \n",
       "65     0.1205731               -0.3375813             -0.4115957           \n",
       "67     0.7639049                0.6519080              0.4923795           \n",
       "68     1.4072367                0.6519080              0.4923795           \n",
       "72     0.7639049                0.6519080              0.4923795           \n",
       "73     0.1205731               -0.3375813              0.4923795           \n",
       "76     0.7639049                0.6519080             -0.4115957           \n",
       "78     0.1205731                1.6413972             -0.4115957           \n",
       "79     1.4072367               -1.3270705             -0.4115957           \n",
       "83    -1.1660905                1.6413972              0.4923795           \n",
       "84    -1.1660905                0.6519080              0.4923795           \n",
       "88     0.7639049               -0.3375813              0.4923795           \n",
       "93     0.1205731                1.6413972              0.4923795           \n",
       "94     0.7639049                1.6413972             -1.3155708           \n",
       "97     0.7639049                1.6413972             -0.4115957           \n",
       "...   ...                      ...                    ...                  \n",
       "9689  -1.8094223               -0.3375813              0.4923795           \n",
       "9694  -0.5227587               -0.3375813              0.4923795           \n",
       "9695  -0.5227587                0.6519080              0.4923795           \n",
       "9701  -0.5227587                0.6519080             -0.4115957           \n",
       "9718  -0.5227587                0.6519080              0.4923795           \n",
       "9748   1.4072367               -0.3375813             -0.4115957           \n",
       "9753   0.1205731                0.6519080              0.4923795           \n",
       "9755   0.1205731                0.6519080              0.4923795           \n",
       "9760  -1.1660905                0.6519080             -0.4115957           \n",
       "9769  -1.1660905               -0.3375813              0.4923795           \n",
       "9770  -1.1660905                0.6519080              0.4923795           \n",
       "9778  -1.8094223               -0.3375813             -0.4115957           \n",
       "9801  -1.8094223               -1.3270705             -0.4115957           \n",
       "9806  -1.8094223               -0.3375813             -0.4115957           \n",
       "9812  -1.8094223               -0.3375813              0.4923795           \n",
       "9849   1.4072367               -0.3375813              1.3963546           \n",
       "9855  -1.8094223                0.6519080              0.4923795           \n",
       "9870   1.4072367                0.6519080              0.4923795           \n",
       "9889  -1.1660905                1.6413972              0.4923795           \n",
       "9907  -1.1660905                0.6519080              0.4923795           \n",
       "9944   0.1205731                0.6519080             -1.3155708           \n",
       "9955  -1.8094223                0.6519080              0.4923795           \n",
       "9973  -1.8094223               -0.3375813              1.3963546           \n",
       "9989  -1.1660905                0.6519080              1.3963546           \n",
       "10002 -1.1660905               -1.3270705              0.4923795           \n",
       "10023 -1.8094223               -0.3375813              1.3963546           \n",
       "10049 -1.1660905                0.6519080              0.4923795           \n",
       "10068  0.7639049               -0.3375813              0.4923795           \n",
       "10090  0.1205731                0.6519080              0.4923795           \n",
       "10126  0.1205731                0.6519080              0.4923795           \n",
       "      Credit_Limit Total_Revolving_Bal Avg_Open_To_Buy Total_Amt_Chng_Q4_Q1\n",
       "11    -0.2072835    0.373240080        -0.24070128      0.324165839        \n",
       "15    -0.6817148   -0.592419097        -0.62846083      1.961888986        \n",
       "20     0.6423358   -0.007133929         0.64284046      0.940022733        \n",
       "22    -0.7914876   -1.426787891        -0.66340869      1.309536869        \n",
       "24    -0.6755534    0.487352283        -0.71910306     -0.852805113        \n",
       "25     0.3944476   -1.426787891         0.52227750      1.437270151        \n",
       "26    -0.0950572    0.621096693        -0.15071907      0.169061140        \n",
       "35     0.4316363    0.654226042         0.37289382     -1.099147871        \n",
       "36    -0.5624468    0.921714861        -0.64496124     -1.140204997        \n",
       "45     0.1318160    1.094723685         0.03364547      0.990203665        \n",
       "50    -0.4276652    0.078756977        -0.43463606     -0.620148065        \n",
       "52    -0.7914876   -0.435361442        -0.75229088      1.081441723        \n",
       "55     0.7852593   -1.426787891         0.91300711      1.282165452        \n",
       "56    -0.5868726    1.272640560        -0.70084261     -0.373805307        \n",
       "61    -0.5716890    1.046870180        -0.66542174      0.643499043        \n",
       "63    -0.2977247    0.108205287        -0.30736293      0.839660869        \n",
       "65     0.6713826    0.578151240         0.61940989      1.044946500        \n",
       "67    -0.2253278    0.802694607        -0.29724268     -0.638395676        \n",
       "68    -0.7204439    0.374467093        -0.75386392      1.113375044        \n",
       "72    -0.7059205   -0.158056519        -0.69160238     -0.008853074        \n",
       "73    -0.6295626    1.064048361        -0.72482320      0.041327858        \n",
       "76    -0.3696816    0.432136701        -0.40834541      0.442775315        \n",
       "78    -0.1753760    0.783062400        -0.24554140     -0.040786394        \n",
       "79    -0.6707122    0.810056684        -0.74319365     -0.259757734        \n",
       "83    -0.7123020   -1.426787891        -0.58423974     -0.798062278        \n",
       "84     0.1651538    0.311889434         0.13715802     -1.719566668        \n",
       "88    -0.5067738   -1.426787891        -0.37875468     -1.263376376        \n",
       "93    -0.2262080   -1.426787891        -0.09824778     -0.825433696        \n",
       "94    -0.6566289    1.072637452        -0.75265389      0.410841995        \n",
       "97    -0.5697085    0.045627628        -0.57367948     -0.743319443        \n",
       "...   ...          ...                 ...             ...                 \n",
       "9689  -0.48113777  -1.4267879          -0.35312405      0.794041840        \n",
       "9694  -0.49896195  -1.4267879          -0.37094449      0.346975354        \n",
       "9695  -0.51491569  -1.4267879          -0.38689488      1.104251238        \n",
       "9701   0.47322610   1.3204941           0.35474337     -1.436728687        \n",
       "9718   0.06987148  -1.4267879           0.19776951      0.483832441        \n",
       "9748  -0.45803235   1.4333793          -0.58643979      1.122498850        \n",
       "9753  -0.46419379  -1.1421209          -0.36170426      0.178184946        \n",
       "9755  -0.01946947   1.6616037          -0.16842951      0.223803975        \n",
       "9760  -0.09230656   1.3585315          -0.21408063      0.844222772        \n",
       "9769   0.33998484  -1.4267879           0.46782616      0.082384985        \n",
       "9770  -0.09494718  -1.4267879           0.03298545      0.835098966        \n",
       "9778  -0.26086610  -0.8586809          -0.18382988      0.588756208        \n",
       "9801   0.11355173   1.0063788           0.02330521      0.515765762        \n",
       "9806  -0.04136461   1.5376754          -0.17920977     -0.291691055        \n",
       "9812  -0.50248277  -1.1445749          -0.39976520      0.086946887        \n",
       "9849  -0.50270283  -1.4267879          -0.37468458      0.073261179        \n",
       "9855  -0.53879129  -1.4267879          -0.41076547      0.009394538        \n",
       "9870   0.56344726   1.6616037           0.41436484     -0.492414783        \n",
       "9889  -0.50512339  -1.4267879          -0.37710464     -0.410300530        \n",
       "9907   0.05468792  -1.4267879           0.18258913     -0.122900647        \n",
       "9944  -0.40676032  -1.4267879          -0.27876222     -0.214138705        \n",
       "9955  -0.51744628  -0.7617469          -0.44904641      0.232927781        \n",
       "9973  -0.56178668   1.5536265          -0.70095261     -0.218700608        \n",
       "9989  -0.33997465  -1.4267879          -0.21199058      0.219242072        \n",
       "10002  0.80814466  -1.4267879           0.93588768     -0.264319637        \n",
       "10023 -0.40731045  -1.2316928          -0.29680267     -0.766128958        \n",
       "10049  0.09814812   0.3511538           0.06664628     -0.916671754        \n",
       "10068 -0.49126014  -1.4267879          -0.36324430     -0.816309890        \n",
       "10090  0.10772036  -1.4267879           0.23561044      0.365222965        \n",
       "10126 -0.36869139  -1.4267879          -0.24070128     -1.026157424        \n",
       "      Total_Trans_Amt Total_Trans_Ct Total_Ct_Chng_Q4_Q1 Avg_Utilization_Ratio\n",
       "11    -0.9428803      -0.9738471     -0.135339178        -0.209993991         \n",
       "15    -0.8342592      -1.5276850     -0.425150311         0.014895086         \n",
       "20    -0.9411141      -1.8685084      0.826497773        -0.706926306         \n",
       "22    -1.0927127      -2.0815230     -0.471352086        -0.997105760         \n",
       "24    -0.9649578      -1.7833025     -1.508791941         1.273548467         \n",
       "25    -0.9696676      -1.8685084      0.158672117        -0.997105760         \n",
       "26    -0.9870352      -1.8259055      0.507285510        -0.217248477         \n",
       "35    -0.9163874      -1.7406996      0.007466308        -0.507427931         \n",
       "36    -0.8822409      -0.9312442     -0.962770965         0.976114527         \n",
       "45    -0.9896845      -1.7833025      0.860099063        -0.239011936         \n",
       "50    -0.9608367      -1.0590529     -0.471352086        -0.057649778         \n",
       "52    -1.0888859      -1.9537142      0.788696320         1.041404904         \n",
       "55    -1.1192057      -2.1241259     -1.462590166        -0.997105760         \n",
       "56    -0.9867409      -1.3998763     -0.471352086         1.422265437         \n",
       "61    -0.9734944      -1.3572734      0.507285510         1.132085983         \n",
       "63    -0.9090282      -1.5702880      1.855537305        -0.231757450         \n",
       "65    -0.9169761      -1.7833025      0.860099063        -0.594481767         \n",
       "67    -0.8981367      -1.2720675     -0.189941275         0.004013356         \n",
       "68    -0.9631916      -1.5702880     -0.656159186         1.556473435         \n",
       "72    -0.8430902      -1.2294646     -1.790202752         0.696816803         \n",
       "73    -0.9266902      -1.8685084     -1.311384357         1.534709976         \n",
       "76    -0.9169761      -1.3572734     -1.164378710         0.043913031         \n",
       "78    -0.6078916      -0.3348033      1.065906970        -0.068531507         \n",
       "79    -0.8642845      -1.7833025     -1.508791941         1.610882082         \n",
       "83    -1.1153789      -2.2519346      0.007466308        -0.997105760         \n",
       "84    -0.9820310      -1.9111113      0.444283089        -0.489291715         \n",
       "88    -0.9322831      -1.3998763     -0.471352086        -0.997105760         \n",
       "93    -0.8651676      -1.3146704     -0.391549020        -0.997105760         \n",
       "94    -0.9178592      -1.5276850      0.927301645         1.777735268         \n",
       "97    -0.9099113      -1.4850821     -1.714599847         0.261547622         \n",
       "...   ...             ...            ...                 ...                  \n",
       "9689  1.0564549        0.26163753    -0.25714386         -0.99710576          \n",
       "9694  1.1691971       -0.03658289    -0.11853853         -0.99710576          \n",
       "9695  1.1294577        0.73026963     1.00710471         -0.99710576          \n",
       "9701  0.6358056       -0.37740624    -0.83256596         -0.36959269          \n",
       "9718  1.0558661        1.07109298     1.59932746         -0.99710576          \n",
       "9748  1.1509464        0.09122586     0.21327421          0.89631518          \n",
       "9753  1.0199534        0.47465212     0.23007486         -0.80486187          \n",
       "9755  1.0950168        0.34684337     1.32631697          0.08381271          \n",
       "9760  1.1350506       -0.46261208    -0.89136822          0.05842200          \n",
       "9769  1.1474140        0.55985796     0.79709664         -0.99710576          \n",
       "9770  1.0906013        0.38944629     0.20907405         -0.99710576          \n",
       "9778  1.0973718       -0.03658289    -0.47135209         -0.72868976          \n",
       "9801  1.0570436       -0.37740624     0.39388115         -0.25352091          \n",
       "9806  1.0891295       -0.03658289     0.07466889          0.06567649          \n",
       "9812  1.0125943       -0.03658289     0.07466889         -0.79035290          \n",
       "9849  0.9004408        0.21903461    -0.02193482         -0.99710576          \n",
       "9855  0.7129295       -0.16439165     0.57028793         -0.99710576          \n",
       "9870  0.9007351        0.04862294    -0.08493724         -0.33332026          \n",
       "9889  1.1229816        0.81547547     0.82649777         -0.99710576          \n",
       "9907  0.9799196        0.68766672     0.72149374         -0.99710576          \n",
       "9944  1.0249577       -0.03658289     0.71309342         -0.99710576          \n",
       "9955  0.9916943       -0.03658289     0.07466889         -0.49654620          \n",
       "9973  0.9922830       -0.07918581     0.82649777          1.50206479          \n",
       "9989  1.1309295       -0.24959749    -0.30754579         -0.99710576          \n",
       "10002 0.9834520       -0.03658289    -0.11853853         -0.99710576          \n",
       "10023 0.8854281       -0.20699457    -0.55955547         -0.88103398          \n",
       "10049 0.9192802       -0.29220040    -0.23194289         -0.44576480          \n",
       "10068 0.9378253        0.94328422     0.26787631         -0.99710576          \n",
       "10090 0.9513661       -0.03658289     0.49048486         -0.99710576          \n",
       "10126 1.1747901       -0.12178873     0.04106760         -0.99710576          "
      ]
     },
     "metadata": {},
     "output_type": "display_data"
    }
   ],
   "source": [
    "# Произвдена нормализаиця \n",
    "cols <- sapply(D, is.numeric)\n",
    "D[cols] <- scale(D[cols])\n",
    "\n",
    "# Для наилучшего предсказания избавимся от выбросов\n",
    "\n",
    "outliers <- function(x) {\n",
    "\n",
    "  Q1 <- quantile(x, probs=.25)\n",
    "  Q3 <- quantile(x, probs=.75)\n",
    "  iqr = Q3-Q1\n",
    "\n",
    " upper_limit = Q3 + (iqr*1.5)\n",
    " lower_limit = Q1 - (iqr*1.5)\n",
    "\n",
    " x > upper_limit | x < lower_limit\n",
    "}\n",
    "\n",
    "remove_outliers <- function(df, cols = names(df)) {\n",
    "  for (col in cols) {\n",
    "    df <- df[!outliers(df[[col]]),]\n",
    "  }\n",
    "  df\n",
    "}\n",
    "\n",
    "remove_outliers(D, c('Customer_Age', 'Months_on_book', 'Total_Relationship_Count', 'Months_Inactive_12_mon', 'Contacts_Count_12_mon', 'Credit_Limit', 'Total_Revolving_Bal', 'Avg_Open_To_Buy', 'Total_Amt_Chng_Q4_Q1', 'Total_Trans_Amt',\n",
    "                     'Total_Trans_Ct', 'Total_Ct_Chng_Q4_Q1', 'Avg_Utilization_Ratio'))\n",
    "\n",
    "\n",
    "# Категориальные переменные приведем к количественным\n",
    "\n",
    "D$Attrition_Flag <- as.integer(factor(D$Attrition_Flag))\n",
    "\n",
    "D$Gender <- as.integer(factor(D$Gender))\n",
    "\n",
    "D$Education_Level <- as.integer(factor(D$Education_Level))\n",
    "D$Marital_Status <- as.integer(factor(D$Marital_Status))\n",
    "D$Income_Category <- as.integer(factor(D$Income_Category))\n",
    "D$Card_Category <- as.integer(factor(D$Card_Category))"
   ]
  },
  {
   "cell_type": "markdown",
   "id": "79bbe350-3593-447e-b1d8-3bc1cb851ba0",
   "metadata": {},
   "source": [
    "%%HTML\n",
    "\n",
    "<h3 align=\"left\"> Проверина корреляция с Attrition_Flag  </h3>\n",
    "\n",
    "\n",
    "</h3>"
   ]
  },
  {
   "cell_type": "code",
   "execution_count": 7,
   "id": "233abf42-3eed-4852-a2c1-6529d087c40a",
   "metadata": {},
   "outputs": [
    {
     "data": {
      "text/html": [
       "<table>\n",
       "<thead><tr><th></th><th scope=col>abs_cor</th><th scope=col>correlation</th></tr></thead>\n",
       "<tbody>\n",
       "\t<tr><th scope=row>Total_Trans_Ct</th><td>0.3714027012 </td><td> 0.3714027012</td></tr>\n",
       "\t<tr><th scope=row>Total_Ct_Chng_Q4_Q1</th><td>0.2900540069 </td><td> 0.2900540069</td></tr>\n",
       "\t<tr><th scope=row>Total_Revolving_Bal</th><td>0.2630528831 </td><td> 0.2630528831</td></tr>\n",
       "\t<tr><th scope=row>Contacts_Count_12_mon</th><td>0.2044905100 </td><td>-0.2044905100</td></tr>\n",
       "\t<tr><th scope=row>Avg_Utilization_Ratio</th><td>0.1784103316 </td><td> 0.1784103316</td></tr>\n",
       "\t<tr><th scope=row>Total_Trans_Amt</th><td>0.1685983814 </td><td> 0.1685983814</td></tr>\n",
       "\t<tr><th scope=row>Months_Inactive_12_mon</th><td>0.1524488063 </td><td>-0.1524488063</td></tr>\n",
       "\t<tr><th scope=row>Total_Relationship_Count</th><td>0.1500052280 </td><td> 0.1500052280</td></tr>\n",
       "\t<tr><th scope=row>Total_Amt_Chng_Q4_Q1</th><td>0.1310628478 </td><td> 0.1310628478</td></tr>\n",
       "\t<tr><th scope=row>Gender</th><td>0.0372716957 </td><td> 0.0372716957</td></tr>\n",
       "\t<tr><th scope=row>Credit_Limit</th><td>0.0238729948 </td><td> 0.0238729948</td></tr>\n",
       "\t<tr><th scope=row>Dependent_count</th><td>0.0189905963 </td><td>-0.0189905963</td></tr>\n",
       "\t<tr><th scope=row>Marital_Status</th><td>0.0185974199 </td><td>-0.0185974199</td></tr>\n",
       "\t<tr><th scope=row>Customer_Age</th><td>0.0182031385 </td><td>-0.0182031385</td></tr>\n",
       "\t<tr><th scope=row>Income_Category</th><td>0.0175838805 </td><td>-0.0175838805</td></tr>\n",
       "\t<tr><th scope=row>Months_on_book</th><td>0.0136868512 </td><td>-0.0136868512</td></tr>\n",
       "\t<tr><th scope=row>Card_Category</th><td>0.0060381321 </td><td> 0.0060381321</td></tr>\n",
       "\t<tr><th scope=row>Education_Level</th><td>0.0055510852 </td><td>-0.0055510852</td></tr>\n",
       "\t<tr><th scope=row>Avg_Open_To_Buy</th><td>0.0002850775 </td><td> 0.0002850775</td></tr>\n",
       "</tbody>\n",
       "</table>\n"
      ],
      "text/latex": [
       "\\begin{tabular}{r|ll}\n",
       "  & abs\\_cor & correlation\\\\\n",
       "\\hline\n",
       "\tTotal\\_Trans\\_Ct & 0.3714027012  &  0.3714027012\\\\\n",
       "\tTotal\\_Ct\\_Chng\\_Q4\\_Q1 & 0.2900540069  &  0.2900540069\\\\\n",
       "\tTotal\\_Revolving\\_Bal & 0.2630528831  &  0.2630528831\\\\\n",
       "\tContacts\\_Count\\_12\\_mon & 0.2044905100  & -0.2044905100\\\\\n",
       "\tAvg\\_Utilization\\_Ratio & 0.1784103316  &  0.1784103316\\\\\n",
       "\tTotal\\_Trans\\_Amt & 0.1685983814  &  0.1685983814\\\\\n",
       "\tMonths\\_Inactive\\_12\\_mon & 0.1524488063  & -0.1524488063\\\\\n",
       "\tTotal\\_Relationship\\_Count & 0.1500052280  &  0.1500052280\\\\\n",
       "\tTotal\\_Amt\\_Chng\\_Q4\\_Q1 & 0.1310628478  &  0.1310628478\\\\\n",
       "\tGender & 0.0372716957  &  0.0372716957\\\\\n",
       "\tCredit\\_Limit & 0.0238729948  &  0.0238729948\\\\\n",
       "\tDependent\\_count & 0.0189905963  & -0.0189905963\\\\\n",
       "\tMarital\\_Status & 0.0185974199  & -0.0185974199\\\\\n",
       "\tCustomer\\_Age & 0.0182031385  & -0.0182031385\\\\\n",
       "\tIncome\\_Category & 0.0175838805  & -0.0175838805\\\\\n",
       "\tMonths\\_on\\_book & 0.0136868512  & -0.0136868512\\\\\n",
       "\tCard\\_Category & 0.0060381321  &  0.0060381321\\\\\n",
       "\tEducation\\_Level & 0.0055510852  & -0.0055510852\\\\\n",
       "\tAvg\\_Open\\_To\\_Buy & 0.0002850775  &  0.0002850775\\\\\n",
       "\\end{tabular}\n"
      ],
      "text/markdown": [
       "\n",
       "| <!--/--> | abs_cor | correlation |\n",
       "|---|---|---|\n",
       "| Total_Trans_Ct | 0.3714027012  |  0.3714027012 |\n",
       "| Total_Ct_Chng_Q4_Q1 | 0.2900540069  |  0.2900540069 |\n",
       "| Total_Revolving_Bal | 0.2630528831  |  0.2630528831 |\n",
       "| Contacts_Count_12_mon | 0.2044905100  | -0.2044905100 |\n",
       "| Avg_Utilization_Ratio | 0.1784103316  |  0.1784103316 |\n",
       "| Total_Trans_Amt | 0.1685983814  |  0.1685983814 |\n",
       "| Months_Inactive_12_mon | 0.1524488063  | -0.1524488063 |\n",
       "| Total_Relationship_Count | 0.1500052280  |  0.1500052280 |\n",
       "| Total_Amt_Chng_Q4_Q1 | 0.1310628478  |  0.1310628478 |\n",
       "| Gender | 0.0372716957  |  0.0372716957 |\n",
       "| Credit_Limit | 0.0238729948  |  0.0238729948 |\n",
       "| Dependent_count | 0.0189905963  | -0.0189905963 |\n",
       "| Marital_Status | 0.0185974199  | -0.0185974199 |\n",
       "| Customer_Age | 0.0182031385  | -0.0182031385 |\n",
       "| Income_Category | 0.0175838805  | -0.0175838805 |\n",
       "| Months_on_book | 0.0136868512  | -0.0136868512 |\n",
       "| Card_Category | 0.0060381321  |  0.0060381321 |\n",
       "| Education_Level | 0.0055510852  | -0.0055510852 |\n",
       "| Avg_Open_To_Buy | 0.0002850775  |  0.0002850775 |\n",
       "\n"
      ],
      "text/plain": [
       "                         abs_cor      correlation  \n",
       "Total_Trans_Ct           0.3714027012  0.3714027012\n",
       "Total_Ct_Chng_Q4_Q1      0.2900540069  0.2900540069\n",
       "Total_Revolving_Bal      0.2630528831  0.2630528831\n",
       "Contacts_Count_12_mon    0.2044905100 -0.2044905100\n",
       "Avg_Utilization_Ratio    0.1784103316  0.1784103316\n",
       "Total_Trans_Amt          0.1685983814  0.1685983814\n",
       "Months_Inactive_12_mon   0.1524488063 -0.1524488063\n",
       "Total_Relationship_Count 0.1500052280  0.1500052280\n",
       "Total_Amt_Chng_Q4_Q1     0.1310628478  0.1310628478\n",
       "Gender                   0.0372716957  0.0372716957\n",
       "Credit_Limit             0.0238729948  0.0238729948\n",
       "Dependent_count          0.0189905963 -0.0189905963\n",
       "Marital_Status           0.0185974199 -0.0185974199\n",
       "Customer_Age             0.0182031385 -0.0182031385\n",
       "Income_Category          0.0175838805 -0.0175838805\n",
       "Months_on_book           0.0136868512 -0.0136868512\n",
       "Card_Category            0.0060381321  0.0060381321\n",
       "Education_Level          0.0055510852 -0.0055510852\n",
       "Avg_Open_To_Buy          0.0002850775  0.0002850775"
      ]
     },
     "metadata": {},
     "output_type": "display_data"
    }
   ],
   "source": [
    "data_cor <- cor(D[ , colnames(D) != \"Attrition_Flag\"], D$Attrition_Flag)\n",
    "\n",
    "names = rownames(data_cor)\n",
    "abs_cor = abs(data_cor)\n",
    "data = data.frame(abs_cor = abs_cor,correlation = data_cor)\n",
    "data[order(data$abs_cor,decreasing = TRUE),]"
   ]
  },
  {
   "cell_type": "markdown",
   "id": "45f96ca2-8819-412a-a907-a6a6dff12e22",
   "metadata": {},
   "source": [
    "%%HTML\n",
    "\n",
    "<h3 align=\"left\"> Линейная регрессия</h3>\n",
    "<h3 align=\"left\"> От одного показателя</h3>\n",
    "\n",
    "</h3>"
   ]
  },
  {
   "cell_type": "code",
   "execution_count": 24,
   "id": "87296ffa-4da7-4f0b-ad7f-318610c1b1a1",
   "metadata": {},
   "outputs": [
    {
     "data": {
      "text/html": [
       "<dl class=dl-horizontal>\n",
       "\t<dt>(Intercept)</dt>\n",
       "\t\t<dd>1.83934037720947</dd>\n",
       "\t<dt>Dependent_count</dt>\n",
       "\t\t<dd>-0.00697400853842706</dd>\n",
       "</dl>\n"
      ],
      "text/latex": [
       "\\begin{description*}\n",
       "\\item[(Intercept)] 1.83934037720947\n",
       "\\item[Dependent\\textbackslash{}\\_count] -0.00697400853842706\n",
       "\\end{description*}\n"
      ],
      "text/markdown": [
       "(Intercept)\n",
       ":   1.83934037720947Dependent_count\n",
       ":   -0.00697400853842706\n",
       "\n"
      ],
      "text/plain": [
       "    (Intercept) Dependent_count \n",
       "    1.839340377    -0.006974009 "
      ]
     },
     "metadata": {},
     "output_type": "display_data"
    }
   ],
   "source": [
    "fit <- lm(D$Attrition_Flag ~ Dependent_count, data = D )\n",
    "\n",
    "fit$coefficients"
   ]
  },
  {
   "cell_type": "code",
   "execution_count": 25,
   "id": "4cd7b449-dcba-4ea2-9364-929fff181b7e",
   "metadata": {},
   "outputs": [
    {
     "data": {
      "text/html": [
       "<table>\n",
       "<thead><tr><th></th><th scope=col>Estimate</th><th scope=col>Std. Error</th><th scope=col>t value</th><th scope=col>Pr(&gt;|t|)</th></tr></thead>\n",
       "<tbody>\n",
       "\t<tr><th scope=row>(Intercept)</th><td> 1.839340377</td><td>0.003648771 </td><td>504.098631  </td><td>0.00000000  </td></tr>\n",
       "\t<tr><th scope=row>Dependent_count</th><td>-0.006974009</td><td>0.003648951 </td><td> -1.911237  </td><td>0.05600239  </td></tr>\n",
       "</tbody>\n",
       "</table>\n"
      ],
      "text/latex": [
       "\\begin{tabular}{r|llll}\n",
       "  & Estimate & Std. Error & t value & Pr(>\\textbar{}t\\textbar{})\\\\\n",
       "\\hline\n",
       "\t(Intercept) &  1.839340377 & 0.003648771  & 504.098631   & 0.00000000  \\\\\n",
       "\tDependent\\_count & -0.006974009 & 0.003648951  &  -1.911237   & 0.05600239  \\\\\n",
       "\\end{tabular}\n"
      ],
      "text/markdown": [
       "\n",
       "| <!--/--> | Estimate | Std. Error | t value | Pr(>|t|) |\n",
       "|---|---|---|---|---|\n",
       "| (Intercept) |  1.839340377 | 0.003648771  | 504.098631   | 0.00000000   |\n",
       "| Dependent_count | -0.006974009 | 0.003648951  |  -1.911237   | 0.05600239   |\n",
       "\n"
      ],
      "text/plain": [
       "                Estimate     Std. Error  t value    Pr(>|t|)  \n",
       "(Intercept)      1.839340377 0.003648771 504.098631 0.00000000\n",
       "Dependent_count -0.006974009 0.003648951  -1.911237 0.05600239"
      ]
     },
     "metadata": {},
     "output_type": "display_data"
    },
    {
     "data": {
      "text/plain": [
       "\n",
       "Call:\n",
       "lm(formula = D$Attrition_Flag ~ Dependent_count, data = D)\n",
       "\n",
       "Residuals:\n",
       "    Min      1Q  Median      3Q     Max \n",
       "-0.8519  0.1534  0.1588  0.1642  0.1749 \n",
       "\n",
       "Coefficients:\n",
       "                 Estimate Std. Error t value Pr(>|t|)    \n",
       "(Intercept)      1.839340   0.003649 504.099   <2e-16 ***\n",
       "Dependent_count -0.006974   0.003649  -1.911    0.056 .  \n",
       "---\n",
       "Signif. codes:  0 '***' 0.001 '**' 0.01 '*' 0.05 '.' 0.1 ' ' 1\n",
       "\n",
       "Residual standard error: 0.3672 on 10125 degrees of freedom\n",
       "Multiple R-squared:  0.0003606,\tAdjusted R-squared:  0.0002619 \n",
       "F-statistic: 3.653 on 1 and 10125 DF,  p-value: 0.056\n"
      ]
     },
     "metadata": {},
     "output_type": "display_data"
    }
   ],
   "source": [
    "summary(fit)$coefficients\n",
    "summary(fit)"
   ]
  },
  {
   "cell_type": "markdown",
   "id": "1d741fd7-3817-4d44-be32-78ce4f133a6e",
   "metadata": {},
   "source": [
    "%%HTML\n",
    "<h3 align=\"left\"> Так как p-value < 0.05 говорит о значимости модели </h3>\n",
    "\n",
    "<h3 align=\"left\"> Полиноминальная регрессия</h3>\n",
    "<h3 align=\"left\"> В зависимости от нескольки показателей</h3>\n",
    "\n",
    "</h3>"
   ]
  },
  {
   "cell_type": "code",
   "execution_count": 22,
   "id": "f09a34b2-f1f9-4ecf-8aea-63e62d7ece2b",
   "metadata": {},
   "outputs": [
    {
     "data": {
      "text/html": [
       "<dl class=dl-horizontal>\n",
       "\t<dt>(Intercept)</dt>\n",
       "\t\t<dd>1.83934037720947</dd>\n",
       "\t<dt>Months_on_book</dt>\n",
       "\t\t<dd>0.000516812376547269</dd>\n",
       "\t<dt>Dependent_count</dt>\n",
       "\t\t<dd>-0.0079059979562641</dd>\n",
       "\t<dt>Customer_Age</dt>\n",
       "\t\t<dd>-0.00805908419418229</dd>\n",
       "</dl>\n"
      ],
      "text/latex": [
       "\\begin{description*}\n",
       "\\item[(Intercept)] 1.83934037720947\n",
       "\\item[Months\\textbackslash{}\\_on\\textbackslash{}\\_book] 0.000516812376547269\n",
       "\\item[Dependent\\textbackslash{}\\_count] -0.0079059979562641\n",
       "\\item[Customer\\textbackslash{}\\_Age] -0.00805908419418229\n",
       "\\end{description*}\n"
      ],
      "text/markdown": [
       "(Intercept)\n",
       ":   1.83934037720947Months_on_book\n",
       ":   0.000516812376547269Dependent_count\n",
       ":   -0.0079059979562641Customer_Age\n",
       ":   -0.00805908419418229\n",
       "\n"
      ],
      "text/plain": [
       "    (Intercept)  Months_on_book Dependent_count    Customer_Age \n",
       "   1.8393403772    0.0005168124   -0.0079059980   -0.0080590842 "
      ]
     },
     "metadata": {},
     "output_type": "display_data"
    }
   ],
   "source": [
    "fit <- lm(D$Attrition_Flag ~ Months_on_book + Dependent_count + Customer_Age, data = D )\n",
    "fit$coefficients"
   ]
  },
  {
   "cell_type": "code",
   "execution_count": 23,
   "id": "de77618a-9cb3-4d27-bb68-c0884174af96",
   "metadata": {},
   "outputs": [
    {
     "data": {
      "text/html": [
       "<table>\n",
       "<thead><tr><th></th><th scope=col>Estimate</th><th scope=col>Std. Error</th><th scope=col>t value</th><th scope=col>Pr(&gt;|t|)</th></tr></thead>\n",
       "<tbody>\n",
       "\t<tr><th scope=row>(Intercept)</th><td> 1.8393403772</td><td>0.003648349  </td><td>504.15688369 </td><td>0.00000000   </td></tr>\n",
       "\t<tr><th scope=row>Months_on_book</th><td> 0.0005168124</td><td>0.005937689  </td><td>  0.08703931 </td><td>0.93064199   </td></tr>\n",
       "\t<tr><th scope=row>Dependent_count</th><td>-0.0079059980</td><td>0.003676321  </td><td> -2.15051923 </td><td>0.03153777   </td></tr>\n",
       "\t<tr><th scope=row>Customer_Age</th><td>-0.0080590842</td><td>0.005950707  </td><td> -1.35430693 </td><td>0.17566871   </td></tr>\n",
       "</tbody>\n",
       "</table>\n"
      ],
      "text/latex": [
       "\\begin{tabular}{r|llll}\n",
       "  & Estimate & Std. Error & t value & Pr(>\\textbar{}t\\textbar{})\\\\\n",
       "\\hline\n",
       "\t(Intercept) &  1.8393403772 & 0.003648349   & 504.15688369  & 0.00000000   \\\\\n",
       "\tMonths\\_on\\_book &  0.0005168124 & 0.005937689   &   0.08703931  & 0.93064199   \\\\\n",
       "\tDependent\\_count & -0.0079059980 & 0.003676321   &  -2.15051923  & 0.03153777   \\\\\n",
       "\tCustomer\\_Age & -0.0080590842 & 0.005950707   &  -1.35430693  & 0.17566871   \\\\\n",
       "\\end{tabular}\n"
      ],
      "text/markdown": [
       "\n",
       "| <!--/--> | Estimate | Std. Error | t value | Pr(>|t|) |\n",
       "|---|---|---|---|---|\n",
       "| (Intercept) |  1.8393403772 | 0.003648349   | 504.15688369  | 0.00000000    |\n",
       "| Months_on_book |  0.0005168124 | 0.005937689   |   0.08703931  | 0.93064199    |\n",
       "| Dependent_count | -0.0079059980 | 0.003676321   |  -2.15051923  | 0.03153777    |\n",
       "| Customer_Age | -0.0080590842 | 0.005950707   |  -1.35430693  | 0.17566871    |\n",
       "\n"
      ],
      "text/plain": [
       "                Estimate      Std. Error  t value      Pr(>|t|)  \n",
       "(Intercept)      1.8393403772 0.003648349 504.15688369 0.00000000\n",
       "Months_on_book   0.0005168124 0.005937689   0.08703931 0.93064199\n",
       "Dependent_count -0.0079059980 0.003676321  -2.15051923 0.03153777\n",
       "Customer_Age    -0.0080590842 0.005950707  -1.35430693 0.17566871"
      ]
     },
     "metadata": {},
     "output_type": "display_data"
    },
    {
     "data": {
      "text/plain": [
       "\n",
       "Call:\n",
       "lm(formula = D$Attrition_Flag ~ Months_on_book + Dependent_count + \n",
       "    Customer_Age, data = D)\n",
       "\n",
       "Residuals:\n",
       "    Min      1Q  Median      3Q     Max \n",
       "-0.8730  0.1472  0.1597  0.1663  0.1878 \n",
       "\n",
       "Coefficients:\n",
       "                  Estimate Std. Error t value Pr(>|t|)    \n",
       "(Intercept)      1.8393404  0.0036483 504.157   <2e-16 ***\n",
       "Months_on_book   0.0005168  0.0059377   0.087   0.9306    \n",
       "Dependent_count -0.0079060  0.0036763  -2.151   0.0315 *  \n",
       "Customer_Age    -0.0080591  0.0059507  -1.354   0.1757    \n",
       "---\n",
       "Signif. codes:  0 '***' 0.001 '**' 0.01 '*' 0.05 '.' 0.1 ' ' 1\n",
       "\n",
       "Residual standard error: 0.3671 on 10123 degrees of freedom\n",
       "Multiple R-squared:  0.0007891,\tAdjusted R-squared:  0.0004929 \n",
       "F-statistic: 2.665 on 3 and 10123 DF,  p-value: 0.0462\n"
      ]
     },
     "metadata": {},
     "output_type": "display_data"
    }
   ],
   "source": [
    "summary(fit)$coefficients\n",
    "\n",
    "summary(fit)"
   ]
  },
  {
   "cell_type": "markdown",
   "id": "746b73a0-42a3-4a5c-a7f1-3a336857d50e",
   "metadata": {},
   "source": [
    "%%HTML\n",
    "<h3 align=\"left\"> Регуляризация коэффициентов (L1, L2) </h3>\n",
    "\n",
    "</h3>"
   ]
  },
  {
   "cell_type": "code",
   "execution_count": 10,
   "id": "ee929f52-a27a-455b-844a-ad7d524580d2",
   "metadata": {},
   "outputs": [],
   "source": [
    "# Разделение данных на тренировочную и тестовую выборку\n",
    "set.seed(123)\n",
    "\n",
    "sample <- sample(c(TRUE, FALSE), nrow(D), replace=TRUE, prob=c(0.8,0.2))\n",
    "train <- D[sample, ]\n",
    "test <- D[!sample, ]"
   ]
  },
  {
   "cell_type": "code",
   "execution_count": 11,
   "id": "1b919587-e6aa-4df2-92f5-9fe1b5f170db",
   "metadata": {},
   "outputs": [],
   "source": [
    "Xtrain = as.matrix(train[, !names(train) %in% c(\"Attrition_Flag\")])\n",
    "ytrain = as.numeric(train$'Attrition_Flag')\n",
    "\n",
    "Xtest = as.matrix(test[, !names(test) %in% c(\"Attrition_Flag\")])\n",
    "ytest = as.numeric(test$'Attrition_Flag')\n",
    "\n",
    "alpha = c(0, 1, 0.25, 0.5, 0.75)\n",
    "# Тренировка модели\n",
    "for (i in alpha) {\n",
    "  model_reg <- cv.glmnet(Xtrain, ytrain, family = \"binomial\", alpha = i, type.measure = \"class\")\n",
    "  best_lambda <- model_reg$lambda.min\n",
    "  \n",
    "  best_reg <- glmnet(Xtrain, ytrain, family = \"binomial\", alpha = i)\n",
    "    \n",
    "  y_pred_reg <- predict(best_reg, s = best_lambda, newx = Xtest, type = \"class\")\n",
    "    \n",
    "  cm <- table(ytest, y_pred_reg)\n",
    "}"
   ]
  },
  {
   "cell_type": "markdown",
   "id": "dc6e95fc-3343-4691-9afe-a31c6ac50683",
   "metadata": {},
   "source": [
    "%%HTML\n",
    "<h3 align=\"left\"> Для проверки точности используется confusionMatrix </h3>\n",
    "\n",
    "</h3>"
   ]
  },
  {
   "cell_type": "code",
   "execution_count": 12,
   "id": "15187886-9ed9-494e-a4b0-a3702bffe15d",
   "metadata": {},
   "outputs": [
    {
     "data": {
      "text/plain": [
       "Confusion Matrix and Statistics\n",
       "\n",
       "     y_pred_reg\n",
       "ytest    1    2\n",
       "    1  187  137\n",
       "    2   40 1612\n",
       "                                         \n",
       "               Accuracy : 0.9104         \n",
       "                 95% CI : (0.897, 0.9227)\n",
       "    No Information Rate : 0.8851         \n",
       "    P-Value [Acc > NIR] : 0.0001561      \n",
       "                                         \n",
       "                  Kappa : 0.6286         \n",
       "                                         \n",
       " Mcnemar's Test P-Value : 5.362e-13      \n",
       "                                         \n",
       "            Sensitivity : 0.82379        \n",
       "            Specificity : 0.92167        \n",
       "         Pos Pred Value : 0.57716        \n",
       "         Neg Pred Value : 0.97579        \n",
       "             Prevalence : 0.11488        \n",
       "         Detection Rate : 0.09464        \n",
       "   Detection Prevalence : 0.16397        \n",
       "      Balanced Accuracy : 0.87273        \n",
       "                                         \n",
       "       'Positive' Class : 1              \n",
       "                                         "
      ]
     },
     "metadata": {},
     "output_type": "display_data"
    }
   ],
   "source": [
    "confusionMatrix(cm)"
   ]
  }
 ],
 "metadata": {
  "kernelspec": {
   "display_name": "R",
   "language": "R",
   "name": "ir"
  },
  "language_info": {
   "codemirror_mode": "r",
   "file_extension": ".r",
   "mimetype": "text/x-r-source",
   "name": "R",
   "pygments_lexer": "r",
   "version": "3.6.1"
  }
 },
 "nbformat": 4,
 "nbformat_minor": 5
}
