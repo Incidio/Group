{
 "cells": [
  {
   "cell_type": "markdown",
   "id": "b483457d-2a11-4553-b1a3-4d80c9a22a13",
   "metadata": {},
   "source": [
    "%%HTML\n",
    "<h3 align=\"center\">Министерство науки и высшего образования Российской Федерации</h3>\n",
    "<h3 align=\"center\"> Федеральное государственное бюджетное образовательное учреждение высшего образования </h3>\n",
    "<h3 align=\"center\"> Уфимский государственный нефтяной технический университет </h3>\n",
    "<h3 align=\"center\"> “Высшая школа информационных и социальных технологий” </h3>\n",
    "<h3 align=\"center\"> Кафедра “Информационные технологии и прикладная математика” </h3>\n",
    "<br>\n",
    "<br>\n",
    "<br>\n",
    "<h3 align=\"center\"> Отчет </h3>\n",
    "<h3 align=\"center\"> по лабораторной работе №4 </h3>\n",
    "<br>\n",
    "<br>\n",
    "<br>\n",
    "<h3 align=\"right\"> Выполнил: </h3>\n",
    "<h3 align=\"right\"> Ст-гр: БНИ-21-01 Салиев Альберт Русланович </h3>\n",
    "<h3 align=\"right\"> Проверил: </h3>\n",
    "<h3 align=\"right\"> Гумерова Велена Ильгизовна </h3>\n",
    "<h3 align=\"right\"> Дата: 25.04.2024 </h3>\n",
    "<br>\n",
    "<br>\n",
    "<br>\n",
    "<h3 align=\"center\"> Уфа 2024 </h3>\n",
    "<br>\n",
    "<br>"
   ]
  },
  {
   "cell_type": "markdown",
   "id": "2fde10f3-dfce-4ffe-b500-75c31af2a2bd",
   "metadata": {},
   "source": [
    "%%HTML\n",
    "<h3 align=\"left\"> Подключены необходимые библиотеки </h3>\n",
    "\n",
    "</h3>"
   ]
  },
  {
   "cell_type": "raw",
   "id": "d24aaa18-5b3e-44dd-851a-f5565bacf9f7",
   "metadata": {},
   "source": [
    "library(tidyr)\n",
    "library(dplyr)\n",
    "library(plotly)\n",
    "\n",
    "library(tidyverse) \n",
    "library(randomForest)\n",
    "\n",
    "library(caret) #confusion matrix, splitting data\n",
    "library(MASS) # logistic regression\n",
    "library(e1071) # naive bayes"
   ]
  },
  {
   "cell_type": "markdown",
   "id": "79eb7de7-2424-4c83-a745-3f5af84f876a",
   "metadata": {},
   "source": [
    "%%HTML\n",
    "<h3 align=\"left\"> Подготовлены данные для кластеризации </h3>\n",
    "\n",
    "</h3>"
   ]
  },
  {
   "cell_type": "code",
   "execution_count": 2,
   "id": "57a4836a-6533-4fdc-bae8-38631fefc45e",
   "metadata": {},
   "outputs": [],
   "source": [
    "D <- read.csv(\"BankChurners.csv\")\n",
    "D <- as.data.frame(D)"
   ]
  },
  {
   "cell_type": "code",
   "execution_count": 3,
   "id": "a11af8af-2240-4fc8-bb21-112c0150d063",
   "metadata": {},
   "outputs": [],
   "source": [
    "D$age_range <- cut(D$Customer_Age, breaks = c(0, 41, 52, Inf), labels = c(\"Under 41\", \"41-52\", \"Over 52\"))\n",
    "\n",
    "D$Churn=as.factor(if_else(D$Attrition_Flag==\"Attrited Customer\",1,0))"
   ]
  },
  {
   "cell_type": "markdown",
   "id": "72ba5274-db55-4f49-a2c0-cacafb037262",
   "metadata": {},
   "source": [
    "%%HTML\n",
    "<h3 align=\"left\"> Выбрали атрибуты которые наиболее влияют на Attrition_Flag </h3>\n",
    "\n",
    "</h3>"
   ]
  },
  {
   "cell_type": "code",
   "execution_count": 4,
   "id": "1563cadb-c307-48de-a2bb-05bada4f2191",
   "metadata": {},
   "outputs": [
    {
     "data": {
      "text/html": [
       "<ol class=list-inline>\n",
       "\t<li>10127</li>\n",
       "\t<li>13</li>\n",
       "</ol>\n"
      ],
      "text/latex": [
       "\\begin{enumerate*}\n",
       "\\item 10127\n",
       "\\item 13\n",
       "\\end{enumerate*}\n"
      ],
      "text/markdown": [
       "1. 10127\n",
       "2. 13\n",
       "\n",
       "\n"
      ],
      "text/plain": [
       "[1] 10127    13"
      ]
     },
     "metadata": {},
     "output_type": "display_data"
    }
   ],
   "source": [
    "nu<-c(\"Total_Relationship_Count\",\"Months_Inactive_12_mon\",\"Contacts_Count_12_mon\",\"Credit_Limit\"\n",
    "  ,\"Total_Revolving_Bal\",\"Total_Amt_Chng_Q4_Q1\",\"Total_Trans_Amt\",\"Total_Trans_Ct\",\"Total_Ct_Chng_Q4_Q1\"\n",
    "  ,\"Avg_Utilization_Ratio\",\"Gender\",\"Income_Category\",\"Churn\")\n",
    "\n",
    "df<-D[,nu]\n",
    "dim(df)"
   ]
  },
  {
   "cell_type": "code",
   "execution_count": 5,
   "id": "24dd3e1a-4111-4b12-a9a6-1acbe433b97a",
   "metadata": {},
   "outputs": [
    {
     "data": {
      "text/plain": [
       "\n",
       "   0    1 \n",
       "8500 1627 "
      ]
     },
     "metadata": {},
     "output_type": "display_data"
    }
   ],
   "source": [
    "table(df$Churn)"
   ]
  },
  {
   "cell_type": "markdown",
   "id": "bb3471e1-9d68-427b-a7b9-8ac7a3a21783",
   "metadata": {},
   "source": [
    "%%HTML\n",
    "<h3 align=\"left\"> Выполнено разделение на выборки для обучения и проверки в соотношении 8:2 </h3>\n",
    "\n",
    "</h3>"
   ]
  },
  {
   "cell_type": "code",
   "execution_count": 6,
   "id": "7cf6ddd4-3a77-4be1-bad3-8d71f78c8abf",
   "metadata": {},
   "outputs": [],
   "source": [
    "set.seed(123)\n",
    "trainIndex <- createDataPartition(df$Churn, p = .8, list = FALSE)\n",
    "training <- df[trainIndex,]\n",
    "testing <- df[-trainIndex,]"
   ]
  },
  {
   "cell_type": "code",
   "execution_count": 7,
   "id": "27491d1b-def9-489d-957c-0fca365bae92",
   "metadata": {},
   "outputs": [
    {
     "data": {
      "text/plain": [
       "\n",
       "   0    1 \n",
       "6800 1302 "
      ]
     },
     "metadata": {},
     "output_type": "display_data"
    }
   ],
   "source": [
    "table(training$Churn)"
   ]
  },
  {
   "cell_type": "markdown",
   "id": "13d12ca2-2be5-47d4-863b-acd5fa6b3150",
   "metadata": {},
   "source": [
    "%%HTML\n",
    "<h3 align=\"left\"> Расширим тренировочный датасет </h3>\n",
    "\n",
    "</h3>"
   ]
  },
  {
   "cell_type": "code",
   "execution_count": 8,
   "id": "a6baead7-27ce-44cf-855c-5fe5860f11f5",
   "metadata": {},
   "outputs": [
    {
     "data": {
      "text/plain": [
       "\n",
       "   0    1 \n",
       "6800 6800 "
      ]
     },
     "metadata": {},
     "output_type": "display_data"
    }
   ],
   "source": [
    "training <- upSample(x = subset(training, select = -c(Churn)),\n",
    "                     y = training$Churn,yname = \"Churn\") \n",
    "\n",
    "table(training$Churn)"
   ]
  },
  {
   "cell_type": "markdown",
   "id": "83a9ff81-8d9d-40c6-8485-41268911b3ed",
   "metadata": {},
   "source": [
    "%%HTML\n",
    "<h3 align=\"left\"> Проведем логистическую регрессию и проверим точность модели </h3>\n",
    "\n",
    "</h3>"
   ]
  },
  {
   "cell_type": "code",
   "execution_count": 9,
   "id": "7b0e7072-799b-4f99-9f65-f30624f9c9a0",
   "metadata": {},
   "outputs": [
    {
     "name": "stdout",
     "output_type": "stream",
     "text": [
      "Start:  AIC=9414.12\n",
      "Churn ~ Total_Relationship_Count + Months_Inactive_12_mon + Contacts_Count_12_mon + \n",
      "    Credit_Limit + Total_Revolving_Bal + Total_Amt_Chng_Q4_Q1 + \n",
      "    Total_Trans_Amt + Total_Trans_Ct + Total_Ct_Chng_Q4_Q1 + \n",
      "    Avg_Utilization_Ratio + Gender + Income_Category\n",
      "\n",
      "                           Df Deviance     AIC\n",
      "- Credit_Limit              1   9381.6  9413.6\n",
      "<none>                          9380.1  9414.1\n",
      "- Avg_Utilization_Ratio     1   9384.9  9416.9\n",
      "- Income_Category           5   9415.7  9439.7\n",
      "- Total_Amt_Chng_Q4_Q1      1   9425.0  9457.0\n",
      "- Gender                    1   9496.8  9528.8\n",
      "- Total_Revolving_Bal       1   9724.2  9756.2\n",
      "- Months_Inactive_12_mon    1   9733.7  9765.7\n",
      "- Contacts_Count_12_mon     1   9793.9  9825.9\n",
      "- Total_Ct_Chng_Q4_Q1       1   9863.8  9895.8\n",
      "- Total_Relationship_Count  1   9887.4  9919.4\n",
      "- Total_Trans_Amt           1  10607.2 10639.2\n",
      "- Total_Trans_Ct            1  13060.2 13092.2\n",
      "\n",
      "Step:  AIC=9413.64\n",
      "Churn ~ Total_Relationship_Count + Months_Inactive_12_mon + Contacts_Count_12_mon + \n",
      "    Total_Revolving_Bal + Total_Amt_Chng_Q4_Q1 + Total_Trans_Amt + \n",
      "    Total_Trans_Ct + Total_Ct_Chng_Q4_Q1 + Avg_Utilization_Ratio + \n",
      "    Gender + Income_Category\n",
      "\n",
      "                           Df Deviance     AIC\n",
      "<none>                          9381.6  9413.6\n",
      "- Avg_Utilization_Ratio     1   9391.2  9421.2\n",
      "- Income_Category           5   9421.1  9443.1\n",
      "- Total_Amt_Chng_Q4_Q1      1   9426.5  9456.5\n",
      "- Gender                    1   9498.0  9528.0\n",
      "- Months_Inactive_12_mon    1   9735.4  9765.4\n",
      "- Total_Revolving_Bal       1   9760.1  9790.1\n",
      "- Contacts_Count_12_mon     1   9796.4  9826.4\n",
      "- Total_Ct_Chng_Q4_Q1       1   9864.8  9894.8\n",
      "- Total_Relationship_Count  1   9887.8  9917.8\n",
      "- Total_Trans_Amt           1  10629.3 10659.3\n",
      "- Total_Trans_Ct            1  13061.4 13091.4\n"
     ]
    },
    {
     "data": {
      "text/plain": [
       "\n",
       "Call:\n",
       "glm(formula = Churn ~ Total_Relationship_Count + Months_Inactive_12_mon + \n",
       "    Contacts_Count_12_mon + Total_Revolving_Bal + Total_Amt_Chng_Q4_Q1 + \n",
       "    Total_Trans_Amt + Total_Trans_Ct + Total_Ct_Chng_Q4_Q1 + \n",
       "    Avg_Utilization_Ratio + Gender + Income_Category, family = binomial(link = \"logit\"), \n",
       "    data = training)\n",
       "\n",
       "Deviance Residuals: \n",
       "    Min       1Q   Median       3Q      Max  \n",
       "-3.3310  -0.4615   0.0092   0.4984   2.9281  \n",
       "\n",
       "Coefficients:\n",
       "                                Estimate Std. Error z value Pr(>|z|)    \n",
       "(Intercept)                    8.332e+00  2.424e-01  34.370  < 2e-16 ***\n",
       "Total_Relationship_Count      -3.946e-01  1.822e-02 -21.661  < 2e-16 ***\n",
       "Months_Inactive_12_mon         5.127e-01  2.799e-02  18.315  < 2e-16 ***\n",
       "Contacts_Count_12_mon          4.908e-01  2.513e-02  19.533  < 2e-16 ***\n",
       "Total_Revolving_Bal           -7.950e-04  4.174e-05 -19.046  < 2e-16 ***\n",
       "Total_Amt_Chng_Q4_Q1          -8.742e-01  1.325e-01  -6.599 4.15e-11 ***\n",
       "Total_Trans_Amt                5.407e-04  1.630e-05  33.167  < 2e-16 ***\n",
       "Total_Trans_Ct                -1.292e-01  2.685e-03 -48.123  < 2e-16 ***\n",
       "Total_Ct_Chng_Q4_Q1           -2.636e+00  1.275e-01 -20.668  < 2e-16 ***\n",
       "Avg_Utilization_Ratio         -4.463e-01  1.440e-01  -3.100 0.001938 ** \n",
       "GenderM                       -1.095e+00  1.027e-01 -10.660  < 2e-16 ***\n",
       "Income_Category$40K - $60K    -6.599e-01  1.273e-01  -5.186 2.15e-07 ***\n",
       "Income_Category$60K - $80K    -3.985e-01  1.159e-01  -3.439 0.000585 ***\n",
       "Income_Category$80K - $120K   -4.060e-01  1.136e-01  -3.575 0.000350 ***\n",
       "Income_CategoryLess than $40K -6.364e-01  1.408e-01  -4.519 6.22e-06 ***\n",
       "Income_CategoryUnknown        -9.249e-01  1.564e-01  -5.914 3.33e-09 ***\n",
       "---\n",
       "Signif. codes:  0 '***' 0.001 '**' 0.01 '*' 0.05 '.' 0.1 ' ' 1\n",
       "\n",
       "(Dispersion parameter for binomial family taken to be 1)\n",
       "\n",
       "    Null deviance: 18853.6  on 13599  degrees of freedom\n",
       "Residual deviance:  9381.6  on 13584  degrees of freedom\n",
       "AIC: 9413.6\n",
       "\n",
       "Number of Fisher Scoring iterations: 6\n"
      ]
     },
     "metadata": {},
     "output_type": "display_data"
    },
    {
     "data": {
      "text/plain": [
       "prob\n",
       "   0    1 \n",
       "1486  539 "
      ]
     },
     "metadata": {},
     "output_type": "display_data"
    }
   ],
   "source": [
    "## Logistic Regression\n",
    "model1 = glm(formula=Churn ~ . , family = binomial(link='logit'),data = training) %>% stepAIC()\n",
    "summary(model1)\n",
    "\n",
    "probabilities = predict(model1,newdata=testing,type='response')\n",
    "\n",
    "prob <- ifelse(probabilities >= 0.5, 1,0)\n",
    "table(prob)"
   ]
  },
  {
   "cell_type": "markdown",
   "id": "22f10b5a-096c-44f0-98f0-c3ba0d4a3528",
   "metadata": {},
   "source": [
    "%%HTML\n",
    "<h3 align=\"left\"> Также испольуя confusion matrix </h3>\n",
    "\n",
    "</h3>"
   ]
  },
  {
   "cell_type": "code",
   "execution_count": 10,
   "id": "d75c8f01-9075-4ef6-916a-4cfe5b6dde45",
   "metadata": {},
   "outputs": [
    {
     "data": {
      "text/plain": [
       "Confusion Matrix and Statistics\n",
       "\n",
       "      predicted\n",
       "actual    0    1\n",
       "     0 1433  267\n",
       "     1   53  272\n",
       "                                          \n",
       "               Accuracy : 0.842           \n",
       "                 95% CI : (0.8253, 0.8576)\n",
       "    No Information Rate : 0.7338          \n",
       "    P-Value [Acc > NIR] : < 2.2e-16       \n",
       "                                          \n",
       "                  Kappa : 0.5369          \n",
       "                                          \n",
       " Mcnemar's Test P-Value : < 2.2e-16       \n",
       "                                          \n",
       "            Sensitivity : 0.5046          \n",
       "            Specificity : 0.9643          \n",
       "         Pos Pred Value : 0.8369          \n",
       "         Neg Pred Value : 0.8429          \n",
       "             Prevalence : 0.2662          \n",
       "         Detection Rate : 0.1343          \n",
       "   Detection Prevalence : 0.1605          \n",
       "      Balanced Accuracy : 0.7345          \n",
       "                                          \n",
       "       'Positive' Class : 1               \n",
       "                                          "
      ]
     },
     "metadata": {},
     "output_type": "display_data"
    }
   ],
   "source": [
    "tab <- table(actual= testing$Churn,predicted=prob)\n",
    "caret::confusionMatrix(tab,positive = \"1\")"
   ]
  },
  {
   "cell_type": "markdown",
   "id": "202cda2d-e1f3-459f-9b0e-f0cb942dc91c",
   "metadata": {},
   "source": [
    "%%HTML\n",
    "<h3 align=\"left\"> Наблюдается точность 84,2% с надежностью 95% в интервале (82.53% , 85.67%) </h3>\n",
    "\n",
    "<h3 align=\"left\"> Далее проведена тренировка модели на основе Наивного байесовского классификатора  </h3>\n",
    "\n",
    "<h3 align=\"left\"> И проверена её  точность  </h3>\n",
    "\n",
    "</h3>"
   ]
  },
  {
   "cell_type": "code",
   "execution_count": 11,
   "id": "7fe2ff9e-f664-4576-96ac-997227a28a47",
   "metadata": {},
   "outputs": [
    {
     "data": {
      "text/plain": [
       "Confusion Matrix and Statistics\n",
       "\n",
       "          Reference\n",
       "Prediction    0    1\n",
       "         0 1324  376\n",
       "         1   59  266\n",
       "                                          \n",
       "               Accuracy : 0.7852          \n",
       "                 95% CI : (0.7666, 0.8029)\n",
       "    No Information Rate : 0.683           \n",
       "    P-Value [Acc > NIR] : < 2.2e-16       \n",
       "                                          \n",
       "                  Kappa : 0.4283          \n",
       "                                          \n",
       " Mcnemar's Test P-Value : < 2.2e-16       \n",
       "                                          \n",
       "            Sensitivity : 0.4143          \n",
       "            Specificity : 0.9573          \n",
       "         Pos Pred Value : 0.8185          \n",
       "         Neg Pred Value : 0.7788          \n",
       "             Prevalence : 0.3170          \n",
       "         Detection Rate : 0.1314          \n",
       "   Detection Prevalence : 0.1605          \n",
       "      Balanced Accuracy : 0.6858          \n",
       "                                          \n",
       "       'Positive' Class : 1               \n",
       "                                          "
      ]
     },
     "metadata": {},
     "output_type": "display_data"
    }
   ],
   "source": [
    "##Naive Bayes classifier\n",
    "classifier_cl <- naiveBayes(Churn ~ ., data =training)\n",
    "# Predicting on train data'\n",
    "y_pred <- predict(classifier_cl, newdata = testing)\n",
    "# Confusion Matrix\n",
    "cm <- table(actual=testing$Churn,predicted= y_pred)\n",
    "caret::confusionMatrix(testing$Churn,y_pred,positive = \"1\")"
   ]
  },
  {
   "cell_type": "markdown",
   "id": "cfe920c9-aebd-4b9f-8590-4928bc4c2638",
   "metadata": {},
   "source": [
    "%%HTML\n",
    "<h3 align=\"left\"> Наблюдается точность 78,5% с надежностью 95% в интервале (0.7666, 0.8029) </h3>\n",
    "\n",
    "<h3 align=\"left\"> Далее проведена тренировка модели с помощью метода опорных векторов(SVM) </h3>\n",
    "\n",
    "</h3>"
   ]
  },
  {
   "cell_type": "code",
   "execution_count": 12,
   "id": "ca7607fa-4364-4742-911b-97154f826e99",
   "metadata": {},
   "outputs": [
    {
     "data": {
      "text/plain": [
       "Confusion Matrix and Statistics\n",
       "\n",
       "          Reference\n",
       "Prediction    0    1\n",
       "         0 1428  272\n",
       "         1   52  273\n",
       "                                          \n",
       "               Accuracy : 0.84            \n",
       "                 95% CI : (0.8233, 0.8557)\n",
       "    No Information Rate : 0.7309          \n",
       "    P-Value [Acc > NIR] : < 2.2e-16       \n",
       "                                          \n",
       "                  Kappa : 0.5339          \n",
       "                                          \n",
       " Mcnemar's Test P-Value : < 2.2e-16       \n",
       "                                          \n",
       "            Sensitivity : 0.5009          \n",
       "            Specificity : 0.9649          \n",
       "         Pos Pred Value : 0.8400          \n",
       "         Neg Pred Value : 0.8400          \n",
       "             Prevalence : 0.2691          \n",
       "         Detection Rate : 0.1348          \n",
       "   Detection Prevalence : 0.1605          \n",
       "      Balanced Accuracy : 0.7329          \n",
       "                                          \n",
       "       'Positive' Class : 1               \n",
       "                                          "
      ]
     },
     "metadata": {},
     "output_type": "display_data"
    }
   ],
   "source": [
    "# SVM Linear\n",
    "svmL.fit = svm(Churn ~ ., data = training, kernel = \"linear\")\n",
    "\n",
    "svmL_predication = predict(svmL.fit, testing)\n",
    "\n",
    "svm <- table(actual=testing$Churn,predicted= y_pred)\n",
    "caret::confusionMatrix(testing$Churn,svmL_predication,positive = \"1\")\n"
   ]
  },
  {
   "cell_type": "markdown",
   "id": "3e4bcd03-91a5-4431-b9d8-36afc18ff82b",
   "metadata": {},
   "source": [
    "%%HTML\n",
    "<h3 align=\"left\"> Наблюдается точность 84% с надежностью 95% в интервале (0.8233, 0.8557) </h3>\n",
    "\n",
    "<h3 align=\"left\"> Видим, что наилудшую точность имеет логистическая регрессия</h3>\n",
    "\n",
    "</h3>"
   ]
  },
  {
   "cell_type": "code",
   "execution_count": null,
   "id": "45ec86d8-c5a8-420d-804e-c3efd6fd6516",
   "metadata": {},
   "outputs": [],
   "source": []
  }
 ],
 "metadata": {
  "kernelspec": {
   "display_name": "R",
   "language": "R",
   "name": "ir"
  },
  "language_info": {
   "codemirror_mode": "r",
   "file_extension": ".r",
   "mimetype": "text/x-r-source",
   "name": "R",
   "pygments_lexer": "r",
   "version": "3.6.1"
  }
 },
 "nbformat": 4,
 "nbformat_minor": 5
}
